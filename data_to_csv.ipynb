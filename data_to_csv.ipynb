{
 "cells": [
  {
   "cell_type": "markdown",
   "metadata": {},
   "source": [
    "# Python file to convert MAT files to CSV files and join in a single CSV file."
   ]
  },
  {
   "cell_type": "markdown",
   "metadata": {},
   "source": [
    "First, we import the libraries needed. They must not be removed."
   ]
  },
  {
   "cell_type": "code",
   "execution_count": 8,
   "metadata": {},
   "outputs": [],
   "source": [
    "from scipy.io import loadmat   # for reading file.mat\n",
    "from csv import reader         # for reading csv files\n",
    "from csv import writer         # for writing csv files\n",
    "import numpy as np             # for mathematical operations\n",
    "import pandas as pd            # for reading csv files\n",
    "import shutil                  # for moving file to other directories"
   ]
  },
  {
   "cell_type": "markdown",
   "metadata": {},
   "source": [
    "Open, reading and adding equivalence ratios to each file. Finally convert them to CSV files"
   ]
  },
  {
   "cell_type": "markdown",
   "metadata": {},
   "source": [
    "data must be inside a directory called \"Data\" .\n",
    "In this code, the route of the data is as follows /Data/Data_svenja"
   ]
  },
  {
   "cell_type": "code",
   "execution_count": 9,
   "metadata": {},
   "outputs": [
    {
     "name": "stdout",
     "output_type": "stream",
     "text": [
      "33\n",
      "Data/data_0.5.mat\n",
      "Data/data_0.5125.mat\n",
      "Data/data_0.525.mat\n",
      "Data/data_0.5375.mat\n",
      "Data/data_0.55.mat\n",
      "Data/data_0.5625.mat\n",
      "Data/data_0.575.mat\n",
      "Data/data_0.5875.mat\n",
      "Data/data_0.6.mat\n",
      "Data/data_0.6125.mat\n",
      "Data/data_0.625.mat\n",
      "Data/data_0.6375.mat\n",
      "Data/data_0.65.mat\n",
      "Data/data_0.6625.mat\n",
      "Data/data_0.675.mat\n",
      "Data/data_0.6875.mat\n",
      "Data/data_0.7.mat\n",
      "Data/data_0.7125.mat\n",
      "Data/data_0.725.mat\n",
      "Data/data_0.7375.mat\n",
      "Data/data_0.75.mat\n",
      "Data/data_0.8.mat\n",
      "Data/data_0.9.mat\n",
      "Data/data_1.0.mat\n",
      "Data/data_1.1.mat\n",
      "Data/data_1.2.mat\n",
      "Data/data_1.3.mat\n",
      "Data/data_1.4.mat\n",
      "Data/data_1.5.mat\n",
      "Data/data_1.6.mat\n",
      "Data/data_1.7.mat\n",
      "Data/data_1.8.mat\n"
     ]
    }
   ],
   "source": [
    "import os #library imported in order to read file in a specific location/folder\n",
    "#os.listdir('Data/Data_svenja')[1]\n",
    "max=0\n",
    "for files in os.listdir('Data/Data_svenja'):# this is done for counting the number of Matlab files\n",
    "    max=max+1\n",
    "print(max) # check total number of files\n",
    "\n",
    "# Density of air,hydrogen, nitrogen and oxigen in order to compute equivalence ratios\n",
    "\n",
    "rho_H2=0.0836 # hidrogen density m^3/kg\n",
    "rho_air=1.1972 # air density m^3/kg\n",
    "rho_N2=1.1639 # nitrogen density m^3/kg\n",
    "rho_O2=1.3302 # oxigen density m^3/kg\n",
    "\n",
    "st_ratio_H2_O2=0.125 # Stoichiometric ratio Hidrogen-oxigen\n",
    "dilrat_air_mfr=4*rho_N2/rho_O2  # Dilation ratio air\n",
    "\n",
    "\n",
    "\n",
    "# Reading files .mat in folder:Data_svenja, location: Data \n",
    "\n",
    "for j in range(1,max):\n",
    "    name=os.listdir('Data/Data_svenja')[j] # read the name of the matlab file\n",
    "    name=name.split('_') # split the name in order to delete the character \".mat\"\n",
    "    print('Data/data'+'_'+name[1]) # check the name of the file \n",
    "    data=loadmat('Data/Data_svenja/data'+'_'+name[1]) # read the matlab file \"name\"\n",
    "    file='data'+'_'+name[1].split('.m')[0] #string with the name that the csv file will have\n",
    "    #print(file)\n",
    "    \n",
    "    for i in data:\n",
    "        if '__' not in i and 'readme' not in i:\n",
    "              np.savetxt((file+'.csv'),data[i],delimiter=',') # convert file to csv, separate data with ','\n",
    "    #ratio=float(name[1].split('.m')[0])\n",
    "\n",
    " # open the new file csv created above and write in the last column the equivalence ratios   \n",
    "    \n",
    "    \n",
    "    with open(file+'.csv', 'r') as read_obj, \\\n",
    "        open(file+'_1.csv', 'w', newline='') as write_obj:\n",
    "    # Create a csv.reader object from the input file object\n",
    "        csv_reader = reader(read_obj)\n",
    "    # Create a csv.writer object from the output file object\n",
    "        csv_writer = writer(write_obj)\n",
    "    # Read each row of the input csv file as list\n",
    "        X=pd.read_csv(file+'.csv',header=None).values\n",
    "        i=0\n",
    "        for row in csv_reader:\n",
    "        # Append the default text in the row / list\n",
    "            mfl_air=(X[i,4]/1000)*(rho_air/60) # computing air mass flow\n",
    "            mfl_H2=(X[i,5]/1000)*(rho_H2/60)   # computing hydrogen mass flow\n",
    "            mfr_H2=mfl_H2/(mfl_air+mfl_H2)     # computing Hydrogen mass fraction\n",
    "            mfr_air=mfl_H2/(mfl_air+mfl_H2)    # computing air mass fraction\n",
    "            mfr_O2=(1-mfr_H2)/(1+dilrat_air_mfr) # computing air mass fraction using hydrogen mass fraction\n",
    "            phi=(mfr_H2/mfr_O2)/st_ratio_H2_O2   # computing equivalence ratio\n",
    "            row.append(phi)                      # adding at the last column of each row the equivalence ratio\n",
    "            i=i+1\n",
    "        # Add the updated row / list to the output file\n",
    "            csv_writer.writerow(row)\n",
    "        name=name[1].split('.m')               # split filename using character '.m'\n",
    "    os.remove(file+'.csv')                     # eliminate temporary file created before adding eq.ratios\n",
    "    newPath = shutil.copy(file+'_1.csv', 'Data/Data_svenja_csv') # send new file to the new location 'location\\name'\n",
    "    #df=pd.read_csv(file+'_1.csv',header=None)\n",
    "    #df=pd.DataFrame(df)\n",
    "    #df.to_csv(r'Data/'+file+'_1.csv')\n",
    "    #ratios.append(float(name[0]))\n",
    "#print(ratios)"
   ]
  },
  {
   "cell_type": "markdown",
   "metadata": {},
   "source": [
    "Join csv files created above in a single csv file called 'output.csv', this will be used for machine learning methods"
   ]
  },
  {
   "cell_type": "code",
   "execution_count": 12,
   "metadata": {},
   "outputs": [],
   "source": [
    "import glob  # library that joins multiple csv files in a single csv file\n",
    "import csv   # library that contains tools for manipulating csv files\n",
    "\n",
    "Dir = \"C:/Users/MOC1DEV/Data/Data_svenja_csv\" # Directory where the files that will be joined are\n",
    "Avg_Dir = \"C:/Users/MOC1DEV/Data\"             # Directory where we will create the single csv file\n",
    "\n",
    "csv_file_list = glob.glob(os.path.join(Dir, '*.csv')) # returns the file list in the directory 'Dir'\n",
    "#print (csv_file_list)                                # it can be used to check the list of file in the directory\n",
    "\n",
    "with open(os.path.join(Avg_Dir, 'Output.csv'), 'w', newline='') as f:#open new file where we will join the csv files\n",
    "    wf = csv.writer(f, lineterminator='\\n')                          # prepare file to write over it\n",
    "\n",
    "    for files in csv_file_list:                                      # read file one by one\n",
    "        with open(files, 'r') as r: \n",
    "            next(r)                   # SKIP HEADERS\n",
    "            rr = csv.reader(r)        # read csv file \n",
    "            for row in rr:\n",
    "                wf.writerow(row)            # add row of each file to the new file \"output file\""
   ]
  },
  {
   "cell_type": "code",
   "execution_count": 11,
   "metadata": {},
   "outputs": [],
   "source": [
    "#with open('Data/Output.csv') as inf:\n",
    "#    with open('Data/output_final.csv', 'w') as outf:\n",
    "#        for line in inf:\n",
    "#            outf.write(','.join(line.split(',')))"
   ]
  }
 ],
 "metadata": {
  "kernelspec": {
   "display_name": "Python 3 (ipykernel)",
   "language": "python",
   "name": "python3"
  },
  "language_info": {
   "codemirror_mode": {
    "name": "ipython",
    "version": 3
   },
   "file_extension": ".py",
   "mimetype": "text/x-python",
   "name": "python",
   "nbconvert_exporter": "python",
   "pygments_lexer": "ipython3",
   "version": "3.10.4"
  }
 },
 "nbformat": 4,
 "nbformat_minor": 4
}
