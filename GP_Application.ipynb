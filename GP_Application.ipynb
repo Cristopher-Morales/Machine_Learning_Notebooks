{
 "cells": [
  {
   "cell_type": "markdown",
   "metadata": {},
   "source": [
    "# Gaussian Process Regression\n",
    "\n",
    "Machine learning method that store training data in order to perform new predictions.\n",
    "\n",
    "Hence, the following considerations must be taken into account before implementing:\n",
    "- data points less than 10000 (around 1000-5000 should be the best)\n",
    "- features less than 10"
   ]
  },
  {
   "cell_type": "code",
   "execution_count": 1,
   "metadata": {},
   "outputs": [],
   "source": [
    "#import libraries\n",
    "#seaborn can be removed ,but the other ones cannot be removed\n",
    "\n",
    "import numpy as np\n",
    "import pandas as pd\n",
    "import seaborn as sns\n",
    "import matplotlib.pyplot as plt\n",
    "import time\n",
    "import sklearn\n",
    "import sys\n",
    "sns.set(color_codes=True)\n",
    "%matplotlib inline"
   ]
  },
  {
   "cell_type": "markdown",
   "metadata": {},
   "source": [
    "Reading reduced data set obtained after applying k-means clustering\n",
    "This folder should be in the same folder were the python scripts will be\n",
    "In order case add before the name of the csv file the directory where it is\n",
    "for instance: \"Folder/Folder/.../name.csv\" always add .csv at the end of the file"
   ]
  },
  {
   "cell_type": "code",
   "execution_count": 2,
   "metadata": {},
   "outputs": [],
   "source": [
    "df=pd.read_csv('clustering_30_clean.csv',header=None) # Header=None, otherwise header will be first row of dataset"
   ]
  },
  {
   "cell_type": "code",
   "execution_count": 3,
   "metadata": {},
   "outputs": [
    {
     "data": {
      "text/html": [
       "<div>\n",
       "<style scoped>\n",
       "    .dataframe tbody tr th:only-of-type {\n",
       "        vertical-align: middle;\n",
       "    }\n",
       "\n",
       "    .dataframe tbody tr th {\n",
       "        vertical-align: top;\n",
       "    }\n",
       "\n",
       "    .dataframe thead th {\n",
       "        text-align: right;\n",
       "    }\n",
       "</style>\n",
       "<table border=\"1\" class=\"dataframe\">\n",
       "  <thead>\n",
       "    <tr style=\"text-align: right;\">\n",
       "      <th></th>\n",
       "      <th>0</th>\n",
       "      <th>1</th>\n",
       "      <th>2</th>\n",
       "    </tr>\n",
       "  </thead>\n",
       "  <tbody>\n",
       "    <tr>\n",
       "      <th>0</th>\n",
       "      <td>0.085519</td>\n",
       "      <td>1.638166</td>\n",
       "      <td>0.355081</td>\n",
       "    </tr>\n",
       "    <tr>\n",
       "      <th>1</th>\n",
       "      <td>0.079523</td>\n",
       "      <td>1.635425</td>\n",
       "      <td>0.355059</td>\n",
       "    </tr>\n",
       "    <tr>\n",
       "      <th>2</th>\n",
       "      <td>0.080781</td>\n",
       "      <td>1.640152</td>\n",
       "      <td>0.354505</td>\n",
       "    </tr>\n",
       "    <tr>\n",
       "      <th>3</th>\n",
       "      <td>0.082865</td>\n",
       "      <td>1.634210</td>\n",
       "      <td>0.354986</td>\n",
       "    </tr>\n",
       "    <tr>\n",
       "      <th>4</th>\n",
       "      <td>0.084412</td>\n",
       "      <td>1.639296</td>\n",
       "      <td>0.354836</td>\n",
       "    </tr>\n",
       "    <tr>\n",
       "      <th>...</th>\n",
       "      <td>...</td>\n",
       "      <td>...</td>\n",
       "      <td>...</td>\n",
       "    </tr>\n",
       "    <tr>\n",
       "      <th>955</th>\n",
       "      <td>0.670475</td>\n",
       "      <td>1.133300</td>\n",
       "      <td>0.863174</td>\n",
       "    </tr>\n",
       "    <tr>\n",
       "      <th>956</th>\n",
       "      <td>0.665376</td>\n",
       "      <td>1.139958</td>\n",
       "      <td>0.862631</td>\n",
       "    </tr>\n",
       "    <tr>\n",
       "      <th>957</th>\n",
       "      <td>0.653530</td>\n",
       "      <td>1.134640</td>\n",
       "      <td>0.862995</td>\n",
       "    </tr>\n",
       "    <tr>\n",
       "      <th>958</th>\n",
       "      <td>0.664334</td>\n",
       "      <td>1.140368</td>\n",
       "      <td>0.862970</td>\n",
       "    </tr>\n",
       "    <tr>\n",
       "      <th>959</th>\n",
       "      <td>0.652368</td>\n",
       "      <td>1.126966</td>\n",
       "      <td>0.863113</td>\n",
       "    </tr>\n",
       "  </tbody>\n",
       "</table>\n",
       "<p>960 rows × 3 columns</p>\n",
       "</div>"
      ],
      "text/plain": [
       "            0         1         2\n",
       "0    0.085519  1.638166  0.355081\n",
       "1    0.079523  1.635425  0.355059\n",
       "2    0.080781  1.640152  0.354505\n",
       "3    0.082865  1.634210  0.354986\n",
       "4    0.084412  1.639296  0.354836\n",
       "..        ...       ...       ...\n",
       "955  0.670475  1.133300  0.863174\n",
       "956  0.665376  1.139958  0.862631\n",
       "957  0.653530  1.134640  0.862995\n",
       "958  0.664334  1.140368  0.862970\n",
       "959  0.652368  1.126966  0.863113\n",
       "\n",
       "[960 rows x 3 columns]"
      ]
     },
     "execution_count": 3,
     "metadata": {},
     "output_type": "execute_result"
    }
   ],
   "source": [
    "df   #check the data set that will be used"
   ]
  },
  {
   "cell_type": "code",
   "execution_count": 4,
   "metadata": {},
   "outputs": [],
   "source": [
    "dataset=df.values   #transform dataset into an array"
   ]
  },
  {
   "cell_type": "code",
   "execution_count": 5,
   "metadata": {},
   "outputs": [
    {
     "data": {
      "text/plain": [
       "array([[0.0855187 , 1.63816646, 0.35508133],\n",
       "       [0.07952338, 1.63542474, 0.35505903],\n",
       "       [0.0807808 , 1.64015221, 0.35450493],\n",
       "       ...,\n",
       "       [0.65353037, 1.13463989, 0.86299486],\n",
       "       [0.66433398, 1.1403681 , 0.86296995],\n",
       "       [0.6523682 , 1.12696638, 0.86311289]])"
      ]
     },
     "execution_count": 5,
     "metadata": {},
     "output_type": "execute_result"
    }
   ],
   "source": [
    "dataset    #check that data set has been correctly converted to an array"
   ]
  },
  {
   "cell_type": "code",
   "execution_count": 6,
   "metadata": {},
   "outputs": [],
   "source": [
    "X=dataset[:,[1,2]]  # define features in the data set (in this case air and hydrogen volumetric flows)"
   ]
  },
  {
   "cell_type": "code",
   "execution_count": 7,
   "metadata": {},
   "outputs": [],
   "source": [
    "#X optional if we want to check the input"
   ]
  },
  {
   "cell_type": "code",
   "execution_count": 8,
   "metadata": {},
   "outputs": [],
   "source": [
    "y=dataset[:,0] # define output , in this case sensor measurement "
   ]
  },
  {
   "cell_type": "code",
   "execution_count": 9,
   "metadata": {},
   "outputs": [],
   "source": [
    "#y # optional if we want to check outputs"
   ]
  },
  {
   "cell_type": "markdown",
   "metadata": {},
   "source": [
    "data preprocessing"
   ]
  },
  {
   "cell_type": "code",
   "execution_count": 10,
   "metadata": {},
   "outputs": [],
   "source": [
    "#import train_test_split use to slip data set into training set and test set in order to avoid overfitting\n",
    "\n",
    "from sklearn.model_selection import train_test_split"
   ]
  },
  {
   "cell_type": "code",
   "execution_count": 11,
   "metadata": {},
   "outputs": [],
   "source": [
    "# define size of our training and tes set\n",
    "# X_train=features in training set, X_test=features in test set \n",
    "# y_train=outputs in training set, y_test=outputs in test set\n",
    "# test_size=0.3, this is a recommended test size, other options could be used. But it must not be 0. otherwise,\n",
    "# overfitting will be more likely to occur (poor generalization)\n",
    "# random_state=0 in order that splitting could be equal for other running of the tes, this number can be any number\n",
    "\n",
    "X_train,X_test,y_train,y_test=train_test_split(X,y,test_size=0.3,random_state=0)#always in this order"
   ]
  },
  {
   "cell_type": "code",
   "execution_count": 12,
   "metadata": {},
   "outputs": [],
   "source": [
    "#X_train # optional to check training inputs"
   ]
  },
  {
   "cell_type": "code",
   "execution_count": 13,
   "metadata": {},
   "outputs": [],
   "source": [
    "#y_train # optional to check training outputs"
   ]
  },
  {
   "cell_type": "code",
   "execution_count": 14,
   "metadata": {},
   "outputs": [],
   "source": [
    "# import StandardScaler use to scale our data set. Gaussian process is based in gaussian distribution, therefore\n",
    "# this scaling is the recommended because it transforms the data set to a data wiht mean value =0 and standard \n",
    "# deviation= 1 which is similar to an standard gaussiand distribution\n",
    "\n",
    "from sklearn.preprocessing import StandardScaler\n",
    "sc_input=StandardScaler()                      # instantiate StandardScaler\n",
    "X_train=sc_input.fit_transform(X_train)        # fit StandardScaler to training set\n",
    "X_test=sc_input.transform(X_test)              # apply the previous fitting to test set\n",
    "\n",
    "# always in this order: first fit StandardScaler to training set, afterthat apply it to test set"
   ]
  },
  {
   "cell_type": "code",
   "execution_count": 15,
   "metadata": {},
   "outputs": [
    {
     "data": {
      "text/plain": [
       "array([[ 0.9202882 , -0.92334218],\n",
       "       [ 0.89615448, -0.97585283],\n",
       "       [ 0.33237149, -0.29382504],\n",
       "       ...,\n",
       "       [ 0.31663469, -0.34219296],\n",
       "       [ 0.21981786, -0.21040964],\n",
       "       [-0.28851685,  0.3135065 ]])"
      ]
     },
     "execution_count": 15,
     "metadata": {},
     "output_type": "execute_result"
    }
   ],
   "source": [
    "X_train # check training set is correctly rescaled, it is optional but a good way of checking that model is \n",
    "        # working good"
   ]
  },
  {
   "cell_type": "code",
   "execution_count": 16,
   "metadata": {},
   "outputs": [],
   "source": [
    "# do the same for output, similar to the previous step and also always apply in this order\n",
    "\n",
    "from sklearn.preprocessing import StandardScaler\n",
    "sc_output=StandardScaler()\n",
    "y_train=sc_output.fit_transform(y_train.reshape(len(y_train),1)) #y_train needs to be reshape, do not change it\n",
    "y_test=sc_output.transform(y_test.reshape(len(y_test),1))        #similar for y_test"
   ]
  },
  {
   "cell_type": "code",
   "execution_count": 17,
   "metadata": {},
   "outputs": [],
   "source": [
    "#y_train  #check y_train, it is optional"
   ]
  },
  {
   "cell_type": "code",
   "execution_count": 18,
   "metadata": {},
   "outputs": [
    {
     "name": "stdout",
     "output_type": "stream",
     "text": [
      "(672, 2) 672\n"
     ]
    }
   ],
   "source": [
    "print(X_train.shape,np.size(y_train)) #check dimension of x_train, y_train, it is optional buy highly recommended"
   ]
  },
  {
   "cell_type": "markdown",
   "metadata": {},
   "source": [
    "Building GP model"
   ]
  },
  {
   "cell_type": "code",
   "execution_count": 19,
   "metadata": {},
   "outputs": [],
   "source": [
    "# import GaussianProcessRegressor import GP model that will be fitted to the data set\n",
    "# Different kernel (covariance functions) are imported in order to show you more possibilities.\n",
    "# Kernel= C(1.0,(1e-3,1e3))*RBF(1,(1e-3,1e2)) corresponds to squared exponential gaussian kernel used in this \n",
    "# work. C is the signal variance , 1 is the desired value and (1e-3,1e3) are the limits in which the method can \n",
    "# estimate it, it means we give beforehand to the model the valus of C where it has to optimize its value.\n",
    "# Similar to RBF(1,(1e-3,1e2)), 1 is the unit lenght-scale and 1e-3,1e2 are the lower and upper limts where this\n",
    "# length scale can be optimized. They are given beforehand in order to control the model.\n",
    "\n",
    "# Rational cuadratic is another kernel option, its parameter are similar to the ones explainedfor RBF Kernel.\n",
    "# ExpSineSquared is a kernel which is a good option for periodic problems. Periodicity bounds in its must be \n",
    "# given in advanced.\n",
    "# WhiteKernel is for adding artificial noise, it is different to the parameter alpha which is noise but it is used\n",
    "# for controlling the stability of the model.\n",
    "\n",
    "from sklearn.gaussian_process import GaussianProcessRegressor\n",
    "from sklearn.gaussian_process.kernels import RBF, ConstantKernel as C, RationalQuadratic, ExpSineSquared, WhiteKernel"
   ]
  },
  {
   "cell_type": "code",
   "execution_count": 20,
   "metadata": {},
   "outputs": [],
   "source": [
    "#defining kernels\n",
    "\n",
    "kernel = C(1.0, (1e-3, 1e3)) * RBF(1, (1e-3, 1e2))\n",
    "kernel2=RationalQuadratic(length_scale=0.05, alpha=0.05, length_scale_bounds=(1e-02, 10.0), alpha_bounds=(1e-02, 10.0))\n",
    "kernel3= ExpSineSquared(1, 5, periodicity_bounds=(1e-2, 1e1))+ WhiteKernel(1e-3)\n",
    "\n",
    "# we are going to instante the model. \n",
    "# kernel=kernel defined the kernel used, we can change kernel by kernel1,kernel3 or other such as linear or poly.\n",
    "# alpha=0.03 is the parameter used to control the stability of the model. A good guess for starting is 0.1 \n",
    "# then to decrease or increase it until model begins to show an undesired behaviour\n",
    "# random_state=0 used for model fitting begins at the same point. it could be any number.\n",
    "# n_restart_optimizer=9 used to run the model n times and pick the best hyperparameters that maximizes the likelihood\n",
    "# function. It is used in order to avoid choosing a local minima (machine learning methods are susceptible to find them)\n",
    "# 9 is the recommended value by the developers of the model, otheer values can be also considered.\n",
    "\n",
    "gp = GaussianProcessRegressor(kernel=kernel,alpha=0.03,random_state=0,n_restarts_optimizer=9)#alpha=0.01"
   ]
  },
  {
   "cell_type": "code",
   "execution_count": 21,
   "metadata": {},
   "outputs": [
    {
     "name": "stdout",
     "output_type": "stream",
     "text": [
      "Time for ANN fitting: 11.524\n"
     ]
    }
   ],
   "source": [
    "# fit the model to training data set\n",
    "# measure time that models takes to fit the training data\n",
    "\n",
    "stime=time.time()\n",
    "gp.fit(X_train, y_train) #always in this order X_train,y_train\n",
    "print(\"Time for ANN fitting: %.3f\"%(time.time()-stime))"
   ]
  },
  {
   "cell_type": "code",
   "execution_count": 22,
   "metadata": {},
   "outputs": [
    {
     "name": "stdout",
     "output_type": "stream",
     "text": [
      "Time for GP predictin: 0.057\n"
     ]
    }
   ],
   "source": [
    "# measuring prediction time \n",
    "stime=time.time()\n",
    "y_pred,sigma=gp.predict(X_test,return_std=True) #model provides an two outputs: (estimation, standard deviation)\n",
    "print(\"Time for GP predictin: %.3f\"%(time.time()-stime))"
   ]
  },
  {
   "cell_type": "markdown",
   "metadata": {},
   "source": [
    "Measuring model performance"
   ]
  },
  {
   "cell_type": "code",
   "execution_count": 23,
   "metadata": {},
   "outputs": [],
   "source": [
    "# import these statistical measure to analize model performance\n",
    "# r2_score: coefficient of determination , how close are our predictions with respect to real values\n",
    "# mean_squared_error: mean square error \n",
    "\n",
    "from sklearn.metrics import r2_score, mean_squared_error"
   ]
  },
  {
   "cell_type": "code",
   "execution_count": 24,
   "metadata": {},
   "outputs": [
    {
     "name": "stdout",
     "output_type": "stream",
     "text": [
      "mean square error training data: 0.00353\n",
      "mean square error test data: 0.00342\n",
      "R^2 training data: 0.99647\n",
      "R^2 test data: 0.99684\n"
     ]
    }
   ],
   "source": [
    "# printing statistical measures for training and test data\n",
    "\n",
    "print(\"mean square error training data: %.5f\"% mean_squared_error(y_train,gp.predict(X_train)))\n",
    "print(\"mean square error test data: %.5f\"% mean_squared_error(y_test,gp.predict(X_test)))\n",
    "print(\"R^2 training data: %.5f\"% r2_score(y_train,gp.predict(X_train)))\n",
    "print(\"R^2 test data: %.5f\"% r2_score(y_test,gp.predict(X_test)))"
   ]
  },
  {
   "cell_type": "markdown",
   "metadata": {},
   "source": [
    "Plotting the results"
   ]
  },
  {
   "cell_type": "code",
   "execution_count": 25,
   "metadata": {},
   "outputs": [],
   "source": [
    "#air volumetric flow between 1.7 to 1.1, 100 points in this order in order to increase the equivalence ratios\n",
    "\n",
    "v_air=np.linspace(1.7,1.1,100) "
   ]
  },
  {
   "cell_type": "code",
   "execution_count": 26,
   "metadata": {},
   "outputs": [],
   "source": [
    "#hydrogen volumetric flow between 0.3 to 0.9, 100 points in this order in order to increase the equivalence ratios\n",
    "\n",
    "v_H2=np.linspace(0.3,0.9,100)"
   ]
  },
  {
   "cell_type": "code",
   "execution_count": 27,
   "metadata": {},
   "outputs": [],
   "source": [
    "# compute equivalence ratios for a combination of air and hydrogen volumentric flows\n",
    "\n",
    "rho_H2=0.0836 # hidrogen density m^3/kg\n",
    "rho_air=1.1972 # air density m^3/kg\n",
    "rho_N2=1.1639 # nitrogen density m^3/kg\n",
    "rho_O2=1.3302 # oxigen density m^3/kg\n",
    "st_ratio_H2_O2=0.125 # Stoichiometric ratio Hidrogen-oxigen\n",
    "dilrat_air_mfr=4*rho_N2/rho_O2  # Dilation ratio air\n",
    "\n",
    "# defining function to calculate equivalence ratios\n",
    "\n",
    "def ratio(x,y):\n",
    "    mfl_air=(x/1000)*(rho_air/60)\n",
    "    mfl_H2=(y/1000)*(rho_H2/60)\n",
    "    mfr_H2=mfl_H2/(mfl_air+mfl_H2)\n",
    "    mfr_air=mfl_H2/(mfl_air+mfl_H2)\n",
    "    mfr_O2=(1-mfr_H2)/(1+dilrat_air_mfr)\n",
    "    return (mfr_H2/mfr_O2)/st_ratio_H2_O2\n",
    "\n",
    "z=[]      #create list for prediction values \n",
    "sigma1=[] #create list for prediction standard deviations\n",
    "ratios=[] #create list for ratios\n",
    "\n",
    "# routine to compute equivalence ratios and predicted values given by GP\n",
    "# inputs in the model bust be enter as a single array, like this example [[1.345,0.987]]\n",
    "# always scale them , as follow sc_input.transform([[1.345,0.987]])\n",
    "# gp.preditc([inputs],return_std=True), return_std=True->provide variance, False->only numerical prediction\n",
    "# always undo the scaling of the output using sc_output.inverse_transform(output)\n",
    "\n",
    "for i in range(0,len(v_air)):\n",
    "    z1=gp.predict(sc_input.transform(np.array([v_air[i],v_H2[i]]).reshape(1,-1)),return_std=True)\n",
    "    z.append(sc_output.inverse_transform(z1[0]))      # adding output to list of outputs\n",
    "    sigma1.append(z1[1])                              # adding sigma to list of standard deviations\n",
    "    ratios.append(ratio(v_air[i],v_H2[i]))            # adding ratios using funcion defined above\n",
    "\n",
    "for i in range(0,len(v_air)):\n",
    "    sigma1[i]=sigma1[i][0] # converting to a single array ,for instance from [[0.5],[0.6],.,[1]] to [0.5,0.6..,1]"
   ]
  },
  {
   "cell_type": "code",
   "execution_count": 28,
   "metadata": {},
   "outputs": [
    {
     "name": "stdout",
     "output_type": "stream",
     "text": [
      "33\n",
      "data_0.5125_1_0.35_0.05.csv\n",
      "data_0.525_1_0.35_0.05.csv\n",
      "data_0.5375_1_0.35_0.05.csv\n",
      "data_0.55_1_0.35_0.05.csv\n",
      "data_0.5625_1_0.35_0.05.csv\n",
      "data_0.575_1_0.35_0.05.csv\n",
      "data_0.5875_1_0.35_0.05.csv\n",
      "data_0.5_1_0.35_0.05.csv\n",
      "data_0.6125_1_0.35_0.05.csv\n",
      "data_0.625_1_0.35_0.05.csv\n",
      "data_0.6375_1_0.35_0.05.csv\n",
      "data_0.65_1_0.35_0.05.csv\n",
      "data_0.6625_1_0.35_0.05.csv\n",
      "data_0.675_1_0.35_0.05.csv\n",
      "data_0.6875_1_0.35_0.05.csv\n",
      "data_0.6_1_0.35_0.05.csv\n",
      "data_0.7125_1_0.35_0.05.csv\n",
      "data_0.725_1_0.35_0.05.csv\n",
      "data_0.7375_1_0.35_0.05.csv\n",
      "data_0.75_1_0.35_0.05.csv\n",
      "data_0.7_1_0.35_0.05.csv\n",
      "data_0.8_1_0.35_0.05.csv\n",
      "data_0.9_1_0.35_0.05.csv\n",
      "data_1.0_1_0.35_0.05.csv\n",
      "data_1.1_1_0.35_0.05.csv\n",
      "data_1.2_1_0.35_0.05.csv\n",
      "data_1.3_1_0.35_0.05.csv\n",
      "data_1.4_1_0.35_0.05.csv\n",
      "data_1.5_1_0.35_0.05.csv\n",
      "data_1.6_1_0.35_0.05.csv\n",
      "data_1.7_1_0.35_0.05.csv\n",
      "data_1.8_1_0.35_0.05.csv\n"
     ]
    }
   ],
   "source": [
    "# computing from each data set the mean sensor measurements and mean equivalen ratio in order to plot them\n",
    "# with the predicted values\n",
    "\n",
    "import os      #import library to read file from a specific directory\n",
    "\n",
    "# counting number of files in a directory\n",
    "\n",
    "max=0\n",
    "for files in os.listdir('Data/Data_svenja_clean_0.4'):\n",
    "    max=max+1\n",
    "print(max)\n",
    "\n",
    "mean_ratio=[]    # create list to save mean equivalence ratios\n",
    "mean_sensor=[]   # create list to save mean sensor measurements\n",
    "\n",
    "#reading each file and calculating mean equivalence ratios and sensor measurements\n",
    "\n",
    "for j in range(1,max):\n",
    "    name=os.listdir('Data/Data_svenja_clean_0.4')[j]  # reading first file and extracting its name\n",
    "    print(name)    # checking names\n",
    "    \n",
    "    #reading file at location 'Data/Data_svenja_clean_0.4/' this location can be changed by the user\n",
    "    dataset=pd.read_csv('Data/Data_svenja_clean_0.4/'+name,header=None) #reading csv file\n",
    "    X1=dataset.values[:,:]     #converting to array\n",
    "    mean1=np.mean(X1[:,10])    #computing mean equivalence ratio\n",
    "    mean_ratio.append(mean1)   #adding previous mean equivalence ratio to list of equivalence ratios\n",
    "    mean2=np.mean(X1[:,3])     #computing mean sensor measurements\n",
    "    mean_sensor.append(mean2)  #adding previous mean sensor measurements to a list of sensor measurements"
   ]
  },
  {
   "cell_type": "code",
   "execution_count": 29,
   "metadata": {},
   "outputs": [
    {
     "data": {
      "text/plain": [
       "<matplotlib.legend.Legend at 0x1b7c3bc11f0>"
      ]
     },
     "execution_count": 29,
     "metadata": {},
     "output_type": "execute_result"
    },
    {
     "data": {
      "image/png": "[encoded data removed]",
      "text/plain": [
       "<Figure size 432x288 with 1 Axes>"
      ]
     },
     "metadata": {
      "needs_background": "light"
     },
     "output_type": "display_data"
    }
   ],
   "source": [
    "# ploting the results \n",
    "\n",
    "z=np.array(z) #converting list to arrays\n",
    "z=z.reshape(len(v_air),1) #converting to a columna array\n",
    "sigma1=np.array(sigma1) #converting stadard deviations to an array\n",
    "#print(z) #using for checking the previous steps, they can be avoid\n",
    "#print(ratios)\n",
    "#print(z)\n",
    "#print(sigma1)\n",
    "#sigma1=sigma1.reshape(len(v_air),1)\n",
    "\n",
    "\n",
    "plt.figure()   # defining new figure\n",
    "plt.plot(mean_ratio, mean_sensor, 'r.', markersize=10, label='Observations') # plotting observations\n",
    "plt.plot(ratios, z, 'b-', label='Prediction') # plotting predictions\n",
    "plt.fill_between(ratios, z[:,0] - 1.96*sigma1, z[:,0] + 1.96*sigma1, color='darkorange',\n",
    "                 alpha=0.3,label='95% confidence interval')  # plotting confidence intervals\n",
    "plt.title('Results for GP ')    # defining titles\n",
    "plt.xlabel('Equivalence Ratio[-]')   # x-axis equivalence ratios\n",
    "plt.ylabel('Sensor measurement[V]')  # y-axis sensor measurements\n",
    "plt.ylim(0, 0.7)                     # limitins width of y-axis, it can be removed by the user if they want\n",
    "plt.legend(loc='upper left')         # adding a legend to the plot"
   ]
  },
  {
   "cell_type": "markdown",
   "metadata": {},
   "source": [
    "Plotting heatmap for showing volumetrics flow respect to temperatures (optional, very time consuming)"
   ]
  },
  {
   "cell_type": "code",
   "execution_count": 257,
   "metadata": {},
   "outputs": [],
   "source": [
    "u=pd.read_csv('clustering_plot.csv',header=None).values[:,[1,2]]\n",
    "u1=sc_input.transform(u)\n",
    "n=u1.shape[0]\n",
    "x_plot=[]\n",
    "y_plot=[]\n",
    "for i in range(0,n):\n",
    "    x_plot.append(u1[i][0])\n",
    "    y_plot.append(u1[i][1])"
   ]
  },
  {
   "cell_type": "code",
   "execution_count": 259,
   "metadata": {},
   "outputs": [
    {
     "name": "stdout",
     "output_type": "stream",
     "text": [
      "Time for GP predicting: 15.214\n"
     ]
    }
   ],
   "source": [
    "for array in (x_plot,y_plot):\n",
    "    temp = 0    \n",
    "    for i in range(0, len(array)):  \n",
    "        for j in range(i+1, len(array)):  \n",
    "            if(array[i] > array[j]):  \n",
    "                temp = array[i] \n",
    "                array[i] = array[j]  \n",
    "                array[j] = temp\n",
    "\n",
    "x_mesh,y_mesh=np.meshgrid(x_plot,y_plot)\n",
    "stime=time.time()\n",
    "z=[]\n",
    "for j in range(0,np.size(x_plot)):\n",
    "    for i in range(0,np.size(y_plot)):\n",
    "        z1=gp.predict([[x_plot[i],y_plot[j]]])\n",
    "        z.append(sc_output.inverse_transform(z1))\n",
    "print(\"Time for GP predicting: %.3f\" % (time.time() - stime))"
   ]
  },
  {
   "cell_type": "code",
   "execution_count": 31,
   "metadata": {},
   "outputs": [
    {
     "name": "stdout",
     "output_type": "stream",
     "text": [
      "[[[0.42929555]]\n",
      "\n",
      " [[0.42862255]]\n",
      "\n",
      " [[0.42860956]]\n",
      "\n",
      " [[0.42825806]]\n",
      "\n",
      " [[0.42718293]]\n",
      "\n",
      " [[0.42461415]]\n",
      "\n",
      " [[0.42448408]]\n",
      "\n",
      " [[0.42225052]]\n",
      "\n",
      " [[0.42214529]]]\n",
      "[[0.42932998 0.42865722]\n",
      " [0.42935444 0.42868186]\n",
      " [0.42935592 0.42868336]\n",
      " [0.42936074 0.42868821]\n",
      " [0.42936484 0.42869233]\n",
      " [0.4293661  0.42869361]\n",
      " [0.42937103 0.42869857]\n",
      " [0.42937329 0.42870085]\n",
      " [0.42937424 0.4287018 ]]\n"
     ]
    },
    {
     "data": {
      "image/png": "[encoded data removed]",
      "text/plain": [
       "<Figure size 432x288 with 2 Axes>"
      ]
     },
     "metadata": {
      "needs_background": "light"
     },
     "output_type": "display_data"
    }
   ],
   "source": [
    "u2=pd.read_csv('clustering_plot.csv',header=None).values[:,[1,2]]\n",
    "n=u2.shape[0]\n",
    "x_plot_1=[]\n",
    "y_plot_1=[]\n",
    "for i in range(0,n):\n",
    "    x_plot_1.append(u2[i][0])\n",
    "    y_plot_1.append(u2[i][1])\n",
    "for array in (x_plot_1,y_plot_1):\n",
    "    temp = 0    \n",
    "    for i in range(0, len(array)):  \n",
    "        for j in range(i+1, len(array)):  \n",
    "            if(array[i] > array[j]):  \n",
    "                temp = array[i] \n",
    "                array[i] = array[j]  \n",
    "                array[j] = temp\n",
    "                \n",
    "x_mesh_1,y_mesh_1=np.meshgrid(x_plot_1,y_plot_1)\n",
    "        \n",
    "z2=np.array(z)\n",
    "print(z2[1:10])\n",
    "z_plot=np.reshape(z2,newshape=(np.size(x_plot_1),np.size(y_plot_1)))\n",
    "plt.imshow(1000*z_plot,extent=[np.min(x_mesh_1),np.max(x_mesh_1),np.min(y_mesh_1),np.max(y_mesh_1)],interpolation=None,origin='lower')\n",
    "plt.title('Measurement sensor for GP')\n",
    "plt.xlabel('volumetric flow air')\n",
    "plt.ylabel('volumetric flow H_2')\n",
    "plt.colorbar()\n",
    "plt.show()"
   ]
  }
 ],
 "metadata": {
  "kernelspec": {
   "display_name": "Python 3 (ipykernel)",
   "language": "python",
   "name": "python3"
  },
  "language_info": {
   "codemirror_mode": {
    "name": "ipython",
    "version": 3
   },
   "file_extension": ".py",
   "mimetype": "text/x-python",
   "name": "python",
   "nbconvert_exporter": "python",
   "pygments_lexer": "ipython3",
   "version": "3.10.4"
  }
 },
 "nbformat": 4,
 "nbformat_minor": 4
}
