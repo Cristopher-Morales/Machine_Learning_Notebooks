{
 "cells": [
  {
   "cell_type": "markdown",
   "metadata": {},
   "source": [
    "# Artificial Neural Network two inputs: volumetric flows air and H2 (2 inputs)"
   ]
  },
  {
   "cell_type": "markdown",
   "metadata": {},
   "source": [
    "implemented using keras and tensorflow, these libraries must be installed before running the code in your python environment"
   ]
  },
  {
   "cell_type": "code",
   "execution_count": 1,
   "metadata": {},
   "outputs": [],
   "source": [
    "#first import libraries ,seaborn and sys could be removed . The other ones cannot be removed\n",
    "import numpy as np\n",
    "import pandas as pd\n",
    "import seaborn as sns\n",
    "import matplotlib.pyplot as plt\n",
    "import time\n",
    "import sklearn\n",
    "import sys\n",
    "sns.set(color_codes=True)\n",
    "%matplotlib inline"
   ]
  },
  {
   "cell_type": "markdown",
   "metadata": {},
   "source": [
    "Import data set\n",
    "in folder 'Data' , the csv final 'Output_clean'.csv contains the data after removing outliers/anomalies\n",
    "you can use another csv file changing the name of the file. "
   ]
  },
  {
   "cell_type": "code",
   "execution_count": 2,
   "metadata": {},
   "outputs": [],
   "source": [
    "df=pd.read_csv('Data/Output_clean.csv',header=None) # read csv using pandas, header=None, do not remove it"
   ]
  },
  {
   "cell_type": "code",
   "execution_count": 3,
   "metadata": {},
   "outputs": [
    {
     "data": {
      "text/html": [
       "<div>\n",
       "<style scoped>\n",
       "    .dataframe tbody tr th:only-of-type {\n",
       "        vertical-align: middle;\n",
       "    }\n",
       "\n",
       "    .dataframe tbody tr th {\n",
       "        vertical-align: top;\n",
       "    }\n",
       "\n",
       "    .dataframe thead th {\n",
       "        text-align: right;\n",
       "    }\n",
       "</style>\n",
       "<table border=\"1\" class=\"dataframe\">\n",
       "  <thead>\n",
       "    <tr style=\"text-align: right;\">\n",
       "      <th></th>\n",
       "      <th>0</th>\n",
       "      <th>1</th>\n",
       "      <th>2</th>\n",
       "      <th>3</th>\n",
       "      <th>4</th>\n",
       "      <th>5</th>\n",
       "      <th>6</th>\n",
       "      <th>7</th>\n",
       "      <th>8</th>\n",
       "      <th>9</th>\n",
       "      <th>10</th>\n",
       "    </tr>\n",
       "  </thead>\n",
       "  <tbody>\n",
       "    <tr>\n",
       "      <th>0</th>\n",
       "      <td>94.458523</td>\n",
       "      <td>0.014448</td>\n",
       "      <td>0.004</td>\n",
       "      <td>0.080611</td>\n",
       "      <td>1.632387</td>\n",
       "      <td>0.354659</td>\n",
       "      <td>1.645</td>\n",
       "      <td>0.355</td>\n",
       "      <td>24.875036</td>\n",
       "      <td>21.058426</td>\n",
       "      <td>0.546163</td>\n",
       "    </tr>\n",
       "    <tr>\n",
       "      <th>1</th>\n",
       "      <td>96.457336</td>\n",
       "      <td>0.015269</td>\n",
       "      <td>0.004</td>\n",
       "      <td>0.079133</td>\n",
       "      <td>1.630318</td>\n",
       "      <td>0.354858</td>\n",
       "      <td>1.645</td>\n",
       "      <td>0.355</td>\n",
       "      <td>24.948113</td>\n",
       "      <td>21.103978</td>\n",
       "      <td>0.547163</td>\n",
       "    </tr>\n",
       "    <tr>\n",
       "      <th>2</th>\n",
       "      <td>99.209307</td>\n",
       "      <td>0.018881</td>\n",
       "      <td>0.004</td>\n",
       "      <td>0.083402</td>\n",
       "      <td>1.630250</td>\n",
       "      <td>0.354951</td>\n",
       "      <td>1.645</td>\n",
       "      <td>0.355</td>\n",
       "      <td>25.032401</td>\n",
       "      <td>21.145084</td>\n",
       "      <td>0.547330</td>\n",
       "    </tr>\n",
       "    <tr>\n",
       "      <th>3</th>\n",
       "      <td>99.709000</td>\n",
       "      <td>0.017895</td>\n",
       "      <td>0.004</td>\n",
       "      <td>0.082253</td>\n",
       "      <td>1.629214</td>\n",
       "      <td>0.354794</td>\n",
       "      <td>1.645</td>\n",
       "      <td>0.355</td>\n",
       "      <td>25.032401</td>\n",
       "      <td>21.145084</td>\n",
       "      <td>0.547435</td>\n",
       "    </tr>\n",
       "    <tr>\n",
       "      <th>4</th>\n",
       "      <td>100.207719</td>\n",
       "      <td>0.018552</td>\n",
       "      <td>0.004</td>\n",
       "      <td>0.082253</td>\n",
       "      <td>1.629207</td>\n",
       "      <td>0.354854</td>\n",
       "      <td>1.645</td>\n",
       "      <td>0.355</td>\n",
       "      <td>25.056757</td>\n",
       "      <td>21.153972</td>\n",
       "      <td>0.547530</td>\n",
       "    </tr>\n",
       "    <tr>\n",
       "      <th>...</th>\n",
       "      <td>...</td>\n",
       "      <td>...</td>\n",
       "      <td>...</td>\n",
       "      <td>...</td>\n",
       "      <td>...</td>\n",
       "      <td>...</td>\n",
       "      <td>...</td>\n",
       "      <td>...</td>\n",
       "      <td>...</td>\n",
       "      <td>...</td>\n",
       "      <td>...</td>\n",
       "    </tr>\n",
       "    <tr>\n",
       "      <th>70533</th>\n",
       "      <td>226.734599</td>\n",
       "      <td>0.180430</td>\n",
       "      <td>0.004</td>\n",
       "      <td>0.671974</td>\n",
       "      <td>1.132338</td>\n",
       "      <td>0.862630</td>\n",
       "      <td>1.140</td>\n",
       "      <td>0.863</td>\n",
       "      <td>62.663953</td>\n",
       "      <td>43.950685</td>\n",
       "      <td>1.915064</td>\n",
       "    </tr>\n",
       "    <tr>\n",
       "      <th>70534</th>\n",
       "      <td>228.485564</td>\n",
       "      <td>0.178296</td>\n",
       "      <td>0.004</td>\n",
       "      <td>0.670332</td>\n",
       "      <td>1.132181</td>\n",
       "      <td>0.862975</td>\n",
       "      <td>1.140</td>\n",
       "      <td>0.863</td>\n",
       "      <td>62.708798</td>\n",
       "      <td>44.037465</td>\n",
       "      <td>1.916096</td>\n",
       "    </tr>\n",
       "    <tr>\n",
       "      <th>70535</th>\n",
       "      <td>228.985931</td>\n",
       "      <td>0.177803</td>\n",
       "      <td>0.004</td>\n",
       "      <td>0.670989</td>\n",
       "      <td>1.131987</td>\n",
       "      <td>0.862902</td>\n",
       "      <td>1.140</td>\n",
       "      <td>0.863</td>\n",
       "      <td>62.714613</td>\n",
       "      <td>44.021054</td>\n",
       "      <td>1.916262</td>\n",
       "    </tr>\n",
       "    <tr>\n",
       "      <th>70536</th>\n",
       "      <td>229.235369</td>\n",
       "      <td>0.180922</td>\n",
       "      <td>0.004</td>\n",
       "      <td>0.672795</td>\n",
       "      <td>1.131667</td>\n",
       "      <td>0.862855</td>\n",
       "      <td>1.140</td>\n",
       "      <td>0.863</td>\n",
       "      <td>62.714613</td>\n",
       "      <td>44.021054</td>\n",
       "      <td>1.916699</td>\n",
       "    </tr>\n",
       "    <tr>\n",
       "      <th>70537</th>\n",
       "      <td>230.485925</td>\n",
       "      <td>0.180102</td>\n",
       "      <td>0.004</td>\n",
       "      <td>0.672302</td>\n",
       "      <td>1.130047</td>\n",
       "      <td>0.862989</td>\n",
       "      <td>1.140</td>\n",
       "      <td>0.863</td>\n",
       "      <td>62.734777</td>\n",
       "      <td>44.083891</td>\n",
       "      <td>1.919745</td>\n",
       "    </tr>\n",
       "  </tbody>\n",
       "</table>\n",
       "<p>70538 rows × 11 columns</p>\n",
       "</div>"
      ],
      "text/plain": [
       "               0         1      2         3         4         5      6   \\\n",
       "0       94.458523  0.014448  0.004  0.080611  1.632387  0.354659  1.645   \n",
       "1       96.457336  0.015269  0.004  0.079133  1.630318  0.354858  1.645   \n",
       "2       99.209307  0.018881  0.004  0.083402  1.630250  0.354951  1.645   \n",
       "3       99.709000  0.017895  0.004  0.082253  1.629214  0.354794  1.645   \n",
       "4      100.207719  0.018552  0.004  0.082253  1.629207  0.354854  1.645   \n",
       "...           ...       ...    ...       ...       ...       ...    ...   \n",
       "70533  226.734599  0.180430  0.004  0.671974  1.132338  0.862630  1.140   \n",
       "70534  228.485564  0.178296  0.004  0.670332  1.132181  0.862975  1.140   \n",
       "70535  228.985931  0.177803  0.004  0.670989  1.131987  0.862902  1.140   \n",
       "70536  229.235369  0.180922  0.004  0.672795  1.131667  0.862855  1.140   \n",
       "70537  230.485925  0.180102  0.004  0.672302  1.130047  0.862989  1.140   \n",
       "\n",
       "          7          8          9         10  \n",
       "0      0.355  24.875036  21.058426  0.546163  \n",
       "1      0.355  24.948113  21.103978  0.547163  \n",
       "2      0.355  25.032401  21.145084  0.547330  \n",
       "3      0.355  25.032401  21.145084  0.547435  \n",
       "4      0.355  25.056757  21.153972  0.547530  \n",
       "...      ...        ...        ...       ...  \n",
       "70533  0.863  62.663953  43.950685  1.915064  \n",
       "70534  0.863  62.708798  44.037465  1.916096  \n",
       "70535  0.863  62.714613  44.021054  1.916262  \n",
       "70536  0.863  62.714613  44.021054  1.916699  \n",
       "70537  0.863  62.734777  44.083891  1.919745  \n",
       "\n",
       "[70538 rows x 11 columns]"
      ]
     },
     "execution_count": 3,
     "metadata": {},
     "output_type": "execute_result"
    }
   ],
   "source": [
    "df #visualize data"
   ]
  },
  {
   "cell_type": "code",
   "execution_count": 4,
   "metadata": {},
   "outputs": [],
   "source": [
    "dataset=df.values #transform data to array"
   ]
  },
  {
   "cell_type": "code",
   "execution_count": 5,
   "metadata": {},
   "outputs": [
    {
     "data": {
      "text/plain": [
       "array([[9.44585230e+01, 1.44480000e-02, 4.00000000e-03, ...,\n",
       "        2.48750360e+01, 2.10584260e+01, 5.46163499e-01],\n",
       "       [9.64573360e+01, 1.52690000e-02, 4.00000000e-03, ...,\n",
       "        2.49481130e+01, 2.11039780e+01, 5.47163466e-01],\n",
       "       [9.92093070e+01, 1.88810000e-02, 4.00000000e-03, ...,\n",
       "        2.50324010e+01, 2.11450840e+01, 5.47329693e-01],\n",
       "       ...,\n",
       "       [2.28985931e+02, 1.77803000e-01, 4.00000000e-03, ...,\n",
       "        6.27146130e+01, 4.40210540e+01, 1.91626184e+00],\n",
       "       [2.29235369e+02, 1.80922000e-01, 4.00000000e-03, ...,\n",
       "        6.27146130e+01, 4.40210540e+01, 1.91669929e+00],\n",
       "       [2.30485925e+02, 1.80102000e-01, 4.00000000e-03, ...,\n",
       "        6.27347770e+01, 4.40838910e+01, 1.91974510e+00]])"
      ]
     },
     "execution_count": 5,
     "metadata": {},
     "output_type": "execute_result"
    }
   ],
   "source": [
    "dataset #visualize data"
   ]
  },
  {
   "cell_type": "markdown",
   "metadata": {},
   "source": [
    "select inputs, columns 4 and 5 are the air and hydrogen volumetric flow, other inputs can be added such temperatures column 8 and 9 and others.No restriccion in the number of inputs."
   ]
  },
  {
   "cell_type": "code",
   "execution_count": 6,
   "metadata": {},
   "outputs": [],
   "source": [
    "X=dataset[:,[4,5]] # dataset[:,[input1,input2,..,inputn]]"
   ]
  },
  {
   "cell_type": "code",
   "execution_count": 7,
   "metadata": {},
   "outputs": [
    {
     "name": "stdout",
     "output_type": "stream",
     "text": [
      "[[1.632387 0.354659]\n",
      " [1.630318 0.354858]\n",
      " [1.63025  0.354951]\n",
      " ...\n",
      " [1.131987 0.862902]\n",
      " [1.131667 0.862855]\n",
      " [1.130047 0.862989]]\n"
     ]
    }
   ],
   "source": [
    "print(X) #visualize inputs ,optional"
   ]
  },
  {
   "cell_type": "markdown",
   "metadata": {},
   "source": [
    "select output, here it is column 3: sensor measurements, there is no restriccion in the number of outputs"
   ]
  },
  {
   "cell_type": "code",
   "execution_count": 8,
   "metadata": {},
   "outputs": [],
   "source": [
    "y=dataset[:,3] # dataset[:,[output1,output2,....,outputn]]"
   ]
  },
  {
   "cell_type": "code",
   "execution_count": 9,
   "metadata": {},
   "outputs": [
    {
     "data": {
      "text/plain": [
       "array([0.080611, 0.079133, 0.083402, ..., 0.670989, 0.672795, 0.672302])"
      ]
     },
     "execution_count": 9,
     "metadata": {},
     "output_type": "execute_result"
    }
   ],
   "source": [
    "y  #visualize outputs (optional)"
   ]
  },
  {
   "cell_type": "markdown",
   "metadata": {},
   "source": [
    "data preprocessing"
   ]
  },
  {
   "cell_type": "code",
   "execution_count": 10,
   "metadata": {},
   "outputs": [],
   "source": [
    "from sklearn import preprocessing "
   ]
  },
  {
   "cell_type": "code",
   "execution_count": 11,
   "metadata": {},
   "outputs": [],
   "source": [
    "# import train_teste_split to split data set in training,val and test data\n",
    "# X:inputs, y=output , test_size=0.3 it can be other proportion, the recommendation is between 0.2-0.5\n",
    "# 0.3 is a common recommendation, random_state=0 can be any number, it is used for splitting data set always\n",
    "# in the same order when the program is running more than one time.\n",
    "\n",
    "from sklearn.model_selection import train_test_split\n",
    "X_train,X_val_test,y_train,y_val_test=train_test_split(X,y,test_size=0.3,random_state=0)#always in this order"
   ]
  },
  {
   "cell_type": "code",
   "execution_count": 12,
   "metadata": {},
   "outputs": [],
   "source": [
    "# some people also use only a test set, it means test set=val+test set. In this program we split in in two\n",
    "# different set. You can use both approaches, the one you here is a suggestion.\n",
    "# test_size=0.5, it is because 0.5*0.3=0.15 will be validation test and 0.15 will be test set\n",
    "\n",
    "X_val, X_test, y_val, y_test = train_test_split(X_val_test, y_val_test, test_size=0.5) "
   ]
  },
  {
   "cell_type": "code",
   "execution_count": 13,
   "metadata": {},
   "outputs": [],
   "source": [
    "# scaling inputs. In this project MinMaxScaler is used, it rescales inputs to an interval [0,1]\n",
    "# other scaling can be used such as StandardScaler, this rescales inputs to a distribution with\n",
    "# mean value=0, an standard deviation=1. We use the first one because it works better for our data set.\n",
    "\n",
    "from sklearn.preprocessing import MinMaxScaler #import MinMaxScaler tool\n",
    "minmax=MinMaxScaler()                          #instantiate MinMaxScaler\n",
    "X_train=minmax.fit_transform(X_train)          # first fit MinMaxScaler to the training inputs\n",
    "X_val=minmax.transform(X_val)                  # apply previous scaling to validation inputs\n",
    "X_test=minmax.transform(X_test)                # apply scaling to test inputs"
   ]
  },
  {
   "cell_type": "code",
   "execution_count": 14,
   "metadata": {},
   "outputs": [
    {
     "data": {
      "text/plain": [
       "array([[0.74702464, 0.24548935],\n",
       "       [0.45414408, 0.55434738],\n",
       "       [0.83126518, 0.17230913],\n",
       "       ...,\n",
       "       [0.74703779, 0.25761641],\n",
       "       [0.74714869, 0.25776149],\n",
       "       [0.08498861, 0.94269968]])"
      ]
     },
     "execution_count": 14,
     "metadata": {},
     "output_type": "execute_result"
    }
   ],
   "source": [
    "X_train #visualize training inputs after rescaling"
   ]
  },
  {
   "cell_type": "code",
   "execution_count": 15,
   "metadata": {},
   "outputs": [],
   "source": [
    "# import MinMaxScaler for rescaling outputs \n",
    "# same reasons explained above why we chose MinMaxScaler instead of StandardScaler\n",
    "# observation: both inputs and output should be rescaled using the same tool: MinMaxScaler or StandardScaler\n",
    "\n",
    "from sklearn.preprocessing import MinMaxScaler\n",
    "minmax_output=MinMaxScaler()                    #instantiate MinMaxScaler for rescaling outputs"
   ]
  },
  {
   "cell_type": "code",
   "execution_count": 16,
   "metadata": {},
   "outputs": [],
   "source": [
    "# outputs must be transpose using .reshape(len(outputs),1). This must be always made\n",
    "\n",
    "y_train=minmax_output.fit_transform(y_train.reshape(len(y_train),1)) #first fit to training outputs\n",
    "y_val=minmax_output.transform(y_val.reshape(len(y_val),1))           #apply rescaling to validation outputs\n",
    "y_test=minmax_output.transform(y_test.reshape(len(y_test),1))        #apply rescaling to test outputs"
   ]
  },
  {
   "cell_type": "code",
   "execution_count": 17,
   "metadata": {},
   "outputs": [
    {
     "name": "stdout",
     "output_type": "stream",
     "text": [
      "(49376, 2) (10581, 2) (10581, 1)\n"
     ]
    }
   ],
   "source": [
    "print(X_train.shape,X_test.shape,y_test.shape) # check dimension of training, validation and tes set (optional)"
   ]
  },
  {
   "cell_type": "markdown",
   "metadata": {},
   "source": [
    "Building the Artificial Neural Network (ANN)"
   ]
  },
  {
   "cell_type": "code",
   "execution_count": 18,
   "metadata": {},
   "outputs": [],
   "source": [
    "# sequential is for given the structure of the ANN, define the sequence of input, hidden and output layers.\n",
    "# Dense is the layer\n",
    "\n",
    "from keras.models import Sequential\n",
    "from keras.layers import Dense"
   ]
  },
  {
   "cell_type": "code",
   "execution_count": 21,
   "metadata": {},
   "outputs": [],
   "source": [
    "# defining the model = Sequential([dense1,dense2,..,outputlayer]) always output layer at the end\n",
    "# Dense(number of neurons, activation='activation function',input_shape=(dimension of inputs,))\n",
    "# only in the FIRST hidden layer input_shape must be added\n",
    "# next hidden layer only number of neurons and the activation function must be defined, program itself read\n",
    "# the number of connections that comes from the previous layer. \n",
    "# example of the next hidden layers Dense(number of neurons, activation ='activation function')\n",
    "#'activation function'='relu','linear','sigmoid','tanh','softmax' and many others\n",
    "#'relu'=rectified linear, 'linear'=linear function,sigmoid=1/(1+exp(-x)) 'tanh'=hyperbolic tangent ,softmax=linear combination\n",
    "# of sigmoid functions. Sigmoig, tanh, softmax and other are used for classification problems.\n",
    "# output layer: Dense(dimension of outputs, activation='activation function')\n",
    "\n",
    "model = Sequential([    Dense(200, activation='relu',input_shape=(2,)),Dense(200, activation='relu'),Dense(1, activation='linear')])# Dense(200, activation='relu'),Dense(200, activation='relu')"
   ]
  },
  {
   "cell_type": "markdown",
   "metadata": {},
   "source": [
    "Training the ANN"
   ]
  },
  {
   "cell_type": "code",
   "execution_count": 22,
   "metadata": {},
   "outputs": [
    {
     "name": "stdout",
     "output_type": "stream",
     "text": [
      "Model: \"sequential\"\n",
      "_________________________________________________________________\n",
      "Layer (type)                 Output Shape              Param #   \n",
      "=================================================================\n",
      "dense (Dense)                (None, 200)               600       \n",
      "_________________________________________________________________\n",
      "dense_1 (Dense)              (None, 200)               40200     \n",
      "_________________________________________________________________\n",
      "dense_2 (Dense)              (None, 1)                 201       \n",
      "=================================================================\n",
      "Total params: 41,001\n",
      "Trainable params: 41,001\n",
      "Non-trainable params: 0\n",
      "_________________________________________________________________\n"
     ]
    }
   ],
   "source": [
    "model.summary()   #summary of the model: numbers of adaptative parameters per hidden layer and output layer\n",
    "\n",
    "# define how model will be trained, model.compile(optimizer='optimizer',loss='mse')\n",
    "# optimizer='sgd', 'adam','adaline'\n",
    "# sgd=stochastic gradient descent, adam=adam optimizer and others. For regression problems, the best is sgd\n",
    "# learning_rate=number can be added as parameter. if it is not added, the program assumes the\n",
    "# defaul value that is 0.01.\n",
    "# The default value of learning_rate is used in this work.\n",
    "model.compile(optimizer='sgd', loss='mse') "
   ]
  },
  {
   "cell_type": "code",
   "execution_count": 23,
   "metadata": {},
   "outputs": [
    {
     "name": "stdout",
     "output_type": "stream",
     "text": [
      "Epoch 1/200\n",
      "1543/1543 [==============================] - 2s 2ms/step - loss: 0.0086 - val_loss: 9.4217e-04\n",
      "Epoch 2/200\n",
      "1543/1543 [==============================] - 2s 2ms/step - loss: 7.4769e-04 - val_loss: 6.2359e-04\n",
      "Epoch 3/200\n",
      "1543/1543 [==============================] - 3s 2ms/step - loss: 5.7409e-04 - val_loss: 5.3544e-04\n",
      "Epoch 4/200\n",
      "1543/1543 [==============================] - 3s 2ms/step - loss: 5.1358e-04 - val_loss: 4.9685e-04\n",
      "Epoch 5/200\n",
      "1543/1543 [==============================] - 3s 2ms/step - loss: 4.8881e-04 - val_loss: 4.8356e-04\n",
      "Epoch 6/200\n",
      "1543/1543 [==============================] - 2s 2ms/step - loss: 4.7709e-04 - val_loss: 4.7509e-04\n",
      "Epoch 7/200\n",
      "1543/1543 [==============================] - 2s 2ms/step - loss: 4.7073e-04 - val_loss: 4.7001e-04\n",
      "Epoch 8/200\n",
      "1543/1543 [==============================] - 2s 2ms/step - loss: 4.6665e-04 - val_loss: 4.6499e-04\n",
      "Epoch 9/200\n",
      "1543/1543 [==============================] - 2s 2ms/step - loss: 4.6196e-04 - val_loss: 4.5971e-04\n",
      "Epoch 10/200\n",
      "1543/1543 [==============================] - 2s 2ms/step - loss: 4.5716e-04 - val_loss: 4.5710e-04\n",
      "Epoch 11/200\n",
      "1543/1543 [==============================] - 3s 2ms/step - loss: 4.5442e-04 - val_loss: 4.5864e-04\n",
      "Epoch 12/200\n",
      "1543/1543 [==============================] - 2s 2ms/step - loss: 4.5303e-04 - val_loss: 4.5600e-04\n",
      "Epoch 13/200\n",
      "1543/1543 [==============================] - 3s 2ms/step - loss: 4.5123e-04 - val_loss: 4.5083e-04\n",
      "Epoch 14/200\n",
      "1543/1543 [==============================] - 2s 1ms/step - loss: 4.4969e-04 - val_loss: 4.4940e-04\n",
      "Epoch 15/200\n",
      "1543/1543 [==============================] - 2s 1ms/step - loss: 4.4810e-04 - val_loss: 4.5019e-04\n",
      "Epoch 16/200\n",
      "1543/1543 [==============================] - 2s 1ms/step - loss: 4.4669e-04 - val_loss: 4.4663e-04\n",
      "Epoch 17/200\n",
      "1543/1543 [==============================] - 3s 2ms/step - loss: 4.4517e-04 - val_loss: 4.4469e-04\n",
      "Epoch 18/200\n",
      "1543/1543 [==============================] - 3s 2ms/step - loss: 4.4360e-04 - val_loss: 4.4307e-04\n",
      "Epoch 19/200\n",
      "1543/1543 [==============================] - 3s 2ms/step - loss: 4.4227e-04 - val_loss: 4.4498e-04\n",
      "Epoch 20/200\n",
      "1543/1543 [==============================] - 3s 2ms/step - loss: 4.4077e-04 - val_loss: 4.4116e-04\n",
      "Epoch 21/200\n",
      "1543/1543 [==============================] - 3s 2ms/step - loss: 4.3955e-04 - val_loss: 4.3925e-04\n",
      "Epoch 22/200\n",
      "1543/1543 [==============================] - 3s 2ms/step - loss: 4.3827e-04 - val_loss: 4.3851e-04\n",
      "Epoch 23/200\n",
      "1543/1543 [==============================] - 3s 2ms/step - loss: 4.3703e-04 - val_loss: 4.3751e-04\n",
      "Epoch 24/200\n",
      "1543/1543 [==============================] - 2s 2ms/step - loss: 4.3598e-04 - val_loss: 4.3695e-04\n",
      "Epoch 25/200\n",
      "1543/1543 [==============================] - 3s 2ms/step - loss: 4.3472e-04 - val_loss: 4.3589e-04\n",
      "Epoch 26/200\n",
      "1543/1543 [==============================] - 3s 2ms/step - loss: 4.3342e-04 - val_loss: 4.3351e-04\n",
      "Epoch 27/200\n",
      "1543/1543 [==============================] - 4s 2ms/step - loss: 4.3228e-04 - val_loss: 4.3157e-04\n",
      "Epoch 28/200\n",
      "1543/1543 [==============================] - 3s 2ms/step - loss: 4.3136e-04 - val_loss: 4.3093e-04\n",
      "Epoch 29/200\n",
      "1543/1543 [==============================] - 3s 2ms/step - loss: 4.3013e-04 - val_loss: 4.2985e-04\n",
      "Epoch 30/200\n",
      "1543/1543 [==============================] - 3s 2ms/step - loss: 4.2893e-04 - val_loss: 4.3037e-04\n",
      "Epoch 31/200\n",
      "1543/1543 [==============================] - 2s 2ms/step - loss: 4.2795e-04 - val_loss: 4.2939e-04\n",
      "Epoch 32/200\n",
      "1543/1543 [==============================] - 2s 2ms/step - loss: 4.2696e-04 - val_loss: 4.2699e-04\n",
      "Epoch 33/200\n",
      "1543/1543 [==============================] - 3s 2ms/step - loss: 4.2591e-04 - val_loss: 4.2581e-04\n",
      "Epoch 34/200\n",
      "1543/1543 [==============================] - 4s 2ms/step - loss: 4.2497e-04 - val_loss: 4.2904e-04\n",
      "Epoch 35/200\n",
      "1543/1543 [==============================] - 3s 2ms/step - loss: 4.2388e-04 - val_loss: 4.2520e-04\n",
      "Epoch 36/200\n",
      "1543/1543 [==============================] - 3s 2ms/step - loss: 4.2302e-04 - val_loss: 4.2250e-04\n",
      "Epoch 37/200\n",
      "1543/1543 [==============================] - 3s 2ms/step - loss: 4.2200e-04 - val_loss: 4.2213e-04\n",
      "Epoch 38/200\n",
      "1543/1543 [==============================] - 2s 2ms/step - loss: 4.2084e-04 - val_loss: 4.2313e-04\n",
      "Epoch 39/200\n",
      "1543/1543 [==============================] - 3s 2ms/step - loss: 4.2030e-04 - val_loss: 4.1989e-04\n",
      "Epoch 40/200\n",
      "1543/1543 [==============================] - 2s 2ms/step - loss: 4.1917e-04 - val_loss: 4.1850e-04\n",
      "Epoch 41/200\n",
      "1543/1543 [==============================] - 2s 2ms/step - loss: 4.1821e-04 - val_loss: 4.1880e-04\n",
      "Epoch 42/200\n",
      "1543/1543 [==============================] - 2s 2ms/step - loss: 4.1712e-04 - val_loss: 4.2114e-04\n",
      "Epoch 43/200\n",
      "1543/1543 [==============================] - 3s 2ms/step - loss: 4.1623e-04 - val_loss: 4.1588e-04\n",
      "Epoch 44/200\n",
      "1543/1543 [==============================] - 2s 2ms/step - loss: 4.1532e-04 - val_loss: 4.1542e-04\n",
      "Epoch 45/200\n",
      "1543/1543 [==============================] - 3s 2ms/step - loss: 4.1438e-04 - val_loss: 4.1385e-04\n",
      "Epoch 46/200\n",
      "1543/1543 [==============================] - 3s 2ms/step - loss: 4.1356e-04 - val_loss: 4.1294e-04\n",
      "Epoch 47/200\n",
      "1543/1543 [==============================] - 3s 2ms/step - loss: 4.1290e-04 - val_loss: 4.1291e-04\n",
      "Epoch 48/200\n",
      "1543/1543 [==============================] - 2s 1ms/step - loss: 4.1212e-04 - val_loss: 4.1152e-04\n",
      "Epoch 49/200\n",
      "1543/1543 [==============================] - 2s 1ms/step - loss: 4.1113e-04 - val_loss: 4.1111e-04\n",
      "Epoch 50/200\n",
      "1543/1543 [==============================] - 2s 1ms/step - loss: 4.1010e-04 - val_loss: 4.1081e-04\n",
      "Epoch 51/200\n",
      "1543/1543 [==============================] - 2s 1ms/step - loss: 4.0954e-04 - val_loss: 4.0864e-04\n",
      "Epoch 52/200\n",
      "1543/1543 [==============================] - 2s 1ms/step - loss: 4.0854e-04 - val_loss: 4.0852e-04\n",
      "Epoch 53/200\n",
      "1543/1543 [==============================] - 3s 2ms/step - loss: 4.0737e-04 - val_loss: 4.0681e-04\n",
      "Epoch 54/200\n",
      "1543/1543 [==============================] - 2s 2ms/step - loss: 4.0628e-04 - val_loss: 4.1020e-04\n",
      "Epoch 55/200\n",
      "1543/1543 [==============================] - 3s 2ms/step - loss: 4.0529e-04 - val_loss: 4.0571e-04\n",
      "Epoch 56/200\n",
      "1543/1543 [==============================] - 2s 1ms/step - loss: 4.0426e-04 - val_loss: 4.0415e-04\n",
      "Epoch 57/200\n",
      "1543/1543 [==============================] - 2s 1ms/step - loss: 4.0345e-04 - val_loss: 4.0532e-04\n",
      "Epoch 58/200\n",
      "1543/1543 [==============================] - 2s 1ms/step - loss: 4.0255e-04 - val_loss: 4.0246e-04\n",
      "Epoch 59/200\n",
      "1543/1543 [==============================] - 2s 2ms/step - loss: 4.0148e-04 - val_loss: 4.0101e-04\n",
      "Epoch 60/200\n",
      "1543/1543 [==============================] - 2s 1ms/step - loss: 4.0065e-04 - val_loss: 4.0123e-04\n",
      "Epoch 61/200\n",
      "1543/1543 [==============================] - 4s 2ms/step - loss: 3.9991e-04 - val_loss: 4.0040e-04\n",
      "Epoch 62/200\n",
      "1543/1543 [==============================] - 3s 2ms/step - loss: 3.9926e-04 - val_loss: 4.0035e-04\n",
      "Epoch 63/200\n",
      "1543/1543 [==============================] - 3s 2ms/step - loss: 3.9828e-04 - val_loss: 3.9937e-04\n",
      "Epoch 64/200\n",
      "1543/1543 [==============================] - 3s 2ms/step - loss: 3.9743e-04 - val_loss: 3.9797e-04\n",
      "Epoch 65/200\n",
      "1543/1543 [==============================] - 3s 2ms/step - loss: 3.9683e-04 - val_loss: 3.9627e-04\n",
      "Epoch 66/200\n",
      "1543/1543 [==============================] - 3s 2ms/step - loss: 3.9585e-04 - val_loss: 3.9631e-04\n",
      "Epoch 67/200\n",
      "1543/1543 [==============================] - 3s 2ms/step - loss: 3.9532e-04 - val_loss: 3.9615e-04\n",
      "Epoch 68/200\n",
      "1543/1543 [==============================] - 3s 2ms/step - loss: 3.9454e-04 - val_loss: 3.9379e-04\n",
      "Epoch 69/200\n",
      "1543/1543 [==============================] - 2s 2ms/step - loss: 3.9367e-04 - val_loss: 3.9378e-04\n",
      "Epoch 70/200\n",
      "1543/1543 [==============================] - 4s 3ms/step - loss: 3.9306e-04 - val_loss: 3.9288e-04\n",
      "Epoch 71/200\n",
      "1543/1543 [==============================] - 4s 3ms/step - loss: 3.9235e-04 - val_loss: 3.9512e-04\n",
      "Epoch 72/200\n",
      "1543/1543 [==============================] - 2s 1ms/step - loss: 3.9164e-04 - val_loss: 3.9156e-04\n",
      "Epoch 73/200\n",
      "1543/1543 [==============================] - 2s 1ms/step - loss: 3.9088e-04 - val_loss: 3.9127e-04\n",
      "Epoch 74/200\n",
      "1543/1543 [==============================] - 2s 1ms/step - loss: 3.9017e-04 - val_loss: 3.9140e-04\n",
      "Epoch 75/200\n",
      "1543/1543 [==============================] - 2s 1ms/step - loss: 3.8968e-04 - val_loss: 3.8931e-04\n",
      "Epoch 76/200\n",
      "1543/1543 [==============================] - 4s 2ms/step - loss: 3.8881e-04 - val_loss: 3.8960e-04\n",
      "Epoch 77/200\n",
      "1543/1543 [==============================] - 3s 2ms/step - loss: 3.8810e-04 - val_loss: 3.9001e-04\n",
      "Epoch 78/200\n",
      "1543/1543 [==============================] - 2s 2ms/step - loss: 3.8744e-04 - val_loss: 3.8734e-04\n",
      "Epoch 79/200\n",
      "1543/1543 [==============================] - 2s 2ms/step - loss: 3.8676e-04 - val_loss: 3.8638e-04\n",
      "Epoch 80/200\n",
      "1543/1543 [==============================] - 4s 3ms/step - loss: 3.8591e-04 - val_loss: 3.8579e-04\n",
      "Epoch 81/200\n",
      "1543/1543 [==============================] - 4s 2ms/step - loss: 3.8522e-04 - val_loss: 3.8628e-04\n",
      "Epoch 82/200\n",
      "1543/1543 [==============================] - 3s 2ms/step - loss: 3.8461e-04 - val_loss: 3.8472e-04\n",
      "Epoch 83/200\n",
      "1543/1543 [==============================] - 3s 2ms/step - loss: 3.8405e-04 - val_loss: 3.8383e-04\n",
      "Epoch 84/200\n",
      "1543/1543 [==============================] - 2s 2ms/step - loss: 3.8330e-04 - val_loss: 3.8290e-04\n",
      "Epoch 85/200\n",
      "1543/1543 [==============================] - 3s 2ms/step - loss: 3.8271e-04 - val_loss: 3.8176e-04\n",
      "Epoch 86/200\n",
      "1543/1543 [==============================] - 2s 2ms/step - loss: 3.8217e-04 - val_loss: 3.8144e-04\n",
      "Epoch 87/200\n",
      "1543/1543 [==============================] - 3s 2ms/step - loss: 3.8157e-04 - val_loss: 3.8071e-04\n",
      "Epoch 88/200\n",
      "1543/1543 [==============================] - 3s 2ms/step - loss: 3.8064e-04 - val_loss: 3.8268e-04\n",
      "Epoch 89/200\n",
      "1543/1543 [==============================] - 2s 2ms/step - loss: 3.8010e-04 - val_loss: 3.8023e-04\n",
      "Epoch 90/200\n",
      "1543/1543 [==============================] - 2s 2ms/step - loss: 3.7966e-04 - val_loss: 3.7914e-04\n",
      "Epoch 91/200\n",
      "1543/1543 [==============================] - 3s 2ms/step - loss: 3.7904e-04 - val_loss: 3.7999e-04\n",
      "Epoch 92/200\n",
      "1543/1543 [==============================] - 3s 2ms/step - loss: 3.7845e-04 - val_loss: 3.7825e-04\n",
      "Epoch 93/200\n",
      "1543/1543 [==============================] - 4s 2ms/step - loss: 3.7769e-04 - val_loss: 3.7751e-04\n",
      "Epoch 94/200\n",
      "1543/1543 [==============================] - 3s 2ms/step - loss: 3.7722e-04 - val_loss: 3.7638e-04\n",
      "Epoch 95/200\n",
      "1543/1543 [==============================] - 3s 2ms/step - loss: 3.7632e-04 - val_loss: 3.7579e-04\n",
      "Epoch 96/200\n",
      "1543/1543 [==============================] - 3s 2ms/step - loss: 3.7581e-04 - val_loss: 3.7531e-04\n",
      "Epoch 97/200\n",
      "1543/1543 [==============================] - 3s 2ms/step - loss: 3.7531e-04 - val_loss: 3.7450e-04\n",
      "Epoch 98/200\n",
      "1543/1543 [==============================] - 3s 2ms/step - loss: 3.7464e-04 - val_loss: 3.7439e-04\n",
      "Epoch 99/200\n",
      "1543/1543 [==============================] - 3s 2ms/step - loss: 3.7412e-04 - val_loss: 3.7321e-04\n",
      "Epoch 100/200\n",
      "1543/1543 [==============================] - 3s 2ms/step - loss: 3.7360e-04 - val_loss: 3.7370e-04\n",
      "Epoch 101/200\n",
      "1543/1543 [==============================] - 3s 2ms/step - loss: 3.7284e-04 - val_loss: 3.7304e-04\n",
      "Epoch 102/200\n",
      "1543/1543 [==============================] - 3s 2ms/step - loss: 3.7249e-04 - val_loss: 3.7174e-04\n",
      "Epoch 103/200\n",
      "1543/1543 [==============================] - 2s 2ms/step - loss: 3.7204e-04 - val_loss: 3.7097e-04\n",
      "Epoch 104/200\n",
      "1543/1543 [==============================] - 2s 2ms/step - loss: 3.7149e-04 - val_loss: 3.7265e-04\n",
      "Epoch 105/200\n",
      "1543/1543 [==============================] - 2s 1ms/step - loss: 3.7082e-04 - val_loss: 3.7095e-04\n",
      "Epoch 106/200\n",
      "1543/1543 [==============================] - 2s 1ms/step - loss: 3.7045e-04 - val_loss: 3.6997e-04\n",
      "Epoch 107/200\n",
      "1543/1543 [==============================] - 2s 1ms/step - loss: 3.6995e-04 - val_loss: 3.6910e-04\n",
      "Epoch 108/200\n",
      "1543/1543 [==============================] - 2s 1ms/step - loss: 3.6928e-04 - val_loss: 3.6964e-04\n",
      "Epoch 109/200\n",
      "1543/1543 [==============================] - 2s 1ms/step - loss: 3.6893e-04 - val_loss: 3.6830e-04\n",
      "Epoch 110/200\n",
      "1543/1543 [==============================] - 2s 1ms/step - loss: 3.6852e-04 - val_loss: 3.6750e-04\n",
      "Epoch 111/200\n",
      "1543/1543 [==============================] - 2s 1ms/step - loss: 3.6798e-04 - val_loss: 3.6699e-04\n",
      "Epoch 112/200\n",
      "1543/1543 [==============================] - 2s 2ms/step - loss: 3.6751e-04 - val_loss: 3.6735e-04\n",
      "Epoch 113/200\n",
      "1543/1543 [==============================] - 2s 1ms/step - loss: 3.6701e-04 - val_loss: 3.6626e-04\n",
      "Epoch 114/200\n",
      "1543/1543 [==============================] - 2s 1ms/step - loss: 3.6647e-04 - val_loss: 3.6654e-04\n",
      "Epoch 115/200\n",
      "1543/1543 [==============================] - 2s 1ms/step - loss: 3.6609e-04 - val_loss: 3.6543e-04\n",
      "Epoch 116/200\n",
      "1543/1543 [==============================] - 2s 1ms/step - loss: 3.6561e-04 - val_loss: 3.6824e-04\n",
      "Epoch 117/200\n",
      "1543/1543 [==============================] - 2s 1ms/step - loss: 3.6506e-04 - val_loss: 3.6502e-04\n",
      "Epoch 118/200\n",
      "1543/1543 [==============================] - 2s 1ms/step - loss: 3.6467e-04 - val_loss: 3.6383e-04\n",
      "Epoch 119/200\n",
      "1543/1543 [==============================] - 2s 1ms/step - loss: 3.6428e-04 - val_loss: 3.6377e-04\n",
      "Epoch 120/200\n",
      "1543/1543 [==============================] - 2s 1ms/step - loss: 3.6387e-04 - val_loss: 3.6314e-04\n",
      "Epoch 121/200\n",
      "1543/1543 [==============================] - 2s 1ms/step - loss: 3.6337e-04 - val_loss: 3.6366e-04\n",
      "Epoch 122/200\n",
      "1543/1543 [==============================] - 2s 1ms/step - loss: 3.6295e-04 - val_loss: 3.6242e-04\n",
      "Epoch 123/200\n",
      "1543/1543 [==============================] - 2s 1ms/step - loss: 3.6241e-04 - val_loss: 3.6170e-04\n",
      "Epoch 124/200\n",
      "1543/1543 [==============================] - 2s 1ms/step - loss: 3.6211e-04 - val_loss: 3.6178e-04\n",
      "Epoch 125/200\n",
      "1543/1543 [==============================] - 2s 1ms/step - loss: 3.6169e-04 - val_loss: 3.6044e-04\n",
      "Epoch 126/200\n",
      "1543/1543 [==============================] - 2s 1ms/step - loss: 3.6100e-04 - val_loss: 3.6115e-04\n",
      "Epoch 127/200\n",
      "1543/1543 [==============================] - 2s 1ms/step - loss: 3.6058e-04 - val_loss: 3.6431e-04\n",
      "Epoch 128/200\n",
      "1543/1543 [==============================] - 2s 1ms/step - loss: 3.6030e-04 - val_loss: 3.6016e-04\n",
      "Epoch 129/200\n",
      "1543/1543 [==============================] - 2s 1ms/step - loss: 3.5969e-04 - val_loss: 3.5911e-04\n",
      "Epoch 130/200\n",
      "1543/1543 [==============================] - 2s 1ms/step - loss: 3.5930e-04 - val_loss: 3.5848e-04\n",
      "Epoch 131/200\n",
      "1543/1543 [==============================] - 2s 1ms/step - loss: 3.5912e-04 - val_loss: 3.5791e-04\n",
      "Epoch 132/200\n",
      "1543/1543 [==============================] - 2s 1ms/step - loss: 3.5850e-04 - val_loss: 3.5754e-04\n",
      "Epoch 133/200\n",
      "1543/1543 [==============================] - 2s 1ms/step - loss: 3.5826e-04 - val_loss: 3.5724e-04\n",
      "Epoch 134/200\n",
      "1543/1543 [==============================] - 2s 1ms/step - loss: 3.5766e-04 - val_loss: 3.6140e-04\n",
      "Epoch 135/200\n",
      "1543/1543 [==============================] - 2s 1ms/step - loss: 3.5719e-04 - val_loss: 3.5582e-04\n",
      "Epoch 136/200\n",
      "1543/1543 [==============================] - 2s 1ms/step - loss: 3.5636e-04 - val_loss: 3.5679e-04\n",
      "Epoch 137/200\n",
      "1543/1543 [==============================] - 2s 1ms/step - loss: 3.5587e-04 - val_loss: 3.5554e-04\n",
      "Epoch 138/200\n",
      "1543/1543 [==============================] - 2s 1ms/step - loss: 3.5552e-04 - val_loss: 3.5458e-04\n",
      "Epoch 139/200\n",
      "1543/1543 [==============================] - 2s 1ms/step - loss: 3.5516e-04 - val_loss: 3.5439e-04\n",
      "Epoch 140/200\n",
      "1543/1543 [==============================] - 2s 1ms/step - loss: 3.5468e-04 - val_loss: 3.5487e-04\n",
      "Epoch 141/200\n",
      "1543/1543 [==============================] - 2s 1ms/step - loss: 3.5460e-04 - val_loss: 3.5359e-04\n",
      "Epoch 142/200\n",
      "1543/1543 [==============================] - 2s 1ms/step - loss: 3.5411e-04 - val_loss: 3.5327e-04\n",
      "Epoch 143/200\n",
      "1543/1543 [==============================] - 3s 2ms/step - loss: 3.5379e-04 - val_loss: 3.5300e-04\n",
      "Epoch 144/200\n",
      "1543/1543 [==============================] - 2s 1ms/step - loss: 3.5360e-04 - val_loss: 3.5253e-04\n",
      "Epoch 145/200\n",
      "1543/1543 [==============================] - 2s 1ms/step - loss: 3.5327e-04 - val_loss: 3.5455e-04\n",
      "Epoch 146/200\n",
      "1543/1543 [==============================] - 2s 1ms/step - loss: 3.5275e-04 - val_loss: 3.5751e-04\n",
      "Epoch 147/200\n",
      "1543/1543 [==============================] - 2s 1ms/step - loss: 3.5284e-04 - val_loss: 3.5183e-04\n",
      "Epoch 148/200\n",
      "1543/1543 [==============================] - 2s 1ms/step - loss: 3.5229e-04 - val_loss: 3.5149e-04\n",
      "Epoch 149/200\n",
      "1543/1543 [==============================] - 2s 1ms/step - loss: 3.5201e-04 - val_loss: 3.5453e-04\n",
      "Epoch 150/200\n",
      "1543/1543 [==============================] - 2s 1ms/step - loss: 3.5174e-04 - val_loss: 3.5065e-04\n",
      "Epoch 151/200\n",
      "1543/1543 [==============================] - 2s 1ms/step - loss: 3.5144e-04 - val_loss: 3.5073e-04\n",
      "Epoch 152/200\n",
      "1543/1543 [==============================] - 2s 1ms/step - loss: 3.5108e-04 - val_loss: 3.4984e-04\n",
      "Epoch 153/200\n",
      "1543/1543 [==============================] - 2s 1ms/step - loss: 3.5070e-04 - val_loss: 3.5003e-04\n",
      "Epoch 154/200\n",
      "1543/1543 [==============================] - 3s 2ms/step - loss: 3.5054e-04 - val_loss: 3.4969e-04\n",
      "Epoch 155/200\n",
      "1543/1543 [==============================] - 3s 2ms/step - loss: 3.5019e-04 - val_loss: 3.4954e-04\n",
      "Epoch 156/200\n",
      "1543/1543 [==============================] - 3s 2ms/step - loss: 3.4995e-04 - val_loss: 3.4896e-04\n",
      "Epoch 157/200\n",
      "1543/1543 [==============================] - 3s 2ms/step - loss: 3.4954e-04 - val_loss: 3.4832e-04\n",
      "Epoch 158/200\n",
      "1543/1543 [==============================] - 3s 2ms/step - loss: 3.4937e-04 - val_loss: 3.4820e-04\n",
      "Epoch 159/200\n",
      "1543/1543 [==============================] - 3s 2ms/step - loss: 3.4906e-04 - val_loss: 3.4808e-04\n",
      "Epoch 160/200\n",
      "1543/1543 [==============================] - 2s 2ms/step - loss: 3.4855e-04 - val_loss: 3.4816e-04\n",
      "Epoch 161/200\n",
      "1543/1543 [==============================] - 3s 2ms/step - loss: 3.4817e-04 - val_loss: 3.4693e-04\n",
      "Epoch 162/200\n",
      "1543/1543 [==============================] - 2s 2ms/step - loss: 3.4803e-04 - val_loss: 3.4720e-04\n",
      "Epoch 163/200\n",
      "1543/1543 [==============================] - 3s 2ms/step - loss: 3.4771e-04 - val_loss: 3.4654e-04\n",
      "Epoch 164/200\n",
      "1543/1543 [==============================] - 2s 2ms/step - loss: 3.4758e-04 - val_loss: 3.4790e-04\n",
      "Epoch 165/200\n",
      "1543/1543 [==============================] - 2s 2ms/step - loss: 3.4722e-04 - val_loss: 3.4823e-04\n",
      "Epoch 166/200\n",
      "1543/1543 [==============================] - 3s 2ms/step - loss: 3.4693e-04 - val_loss: 3.4658e-04\n",
      "Epoch 167/200\n",
      "1543/1543 [==============================] - 3s 2ms/step - loss: 3.4683e-04 - val_loss: 3.4559e-04\n",
      "Epoch 168/200\n",
      "1543/1543 [==============================] - 3s 2ms/step - loss: 3.4657e-04 - val_loss: 3.4735e-04\n",
      "Epoch 169/200\n",
      "1543/1543 [==============================] - 3s 2ms/step - loss: 3.4634e-04 - val_loss: 3.4625e-04\n",
      "Epoch 170/200\n",
      "1543/1543 [==============================] - 2s 2ms/step - loss: 3.4613e-04 - val_loss: 3.4527e-04\n",
      "Epoch 171/200\n",
      "1543/1543 [==============================] - 3s 2ms/step - loss: 3.4588e-04 - val_loss: 3.4703e-04\n",
      "Epoch 172/200\n",
      "1543/1543 [==============================] - 2s 2ms/step - loss: 3.4564e-04 - val_loss: 3.4666e-04\n",
      "Epoch 173/200\n",
      "1543/1543 [==============================] - 2s 2ms/step - loss: 3.4515e-04 - val_loss: 3.4467e-04\n",
      "Epoch 174/200\n",
      "1543/1543 [==============================] - 3s 2ms/step - loss: 3.4516e-04 - val_loss: 3.4594e-04\n",
      "Epoch 175/200\n",
      "1543/1543 [==============================] - 3s 2ms/step - loss: 3.4511e-04 - val_loss: 3.5030e-04\n",
      "Epoch 176/200\n",
      "1543/1543 [==============================] - 3s 2ms/step - loss: 3.4483e-04 - val_loss: 3.4383e-04\n",
      "Epoch 177/200\n",
      "1543/1543 [==============================] - 4s 3ms/step - loss: 3.4463e-04 - val_loss: 3.4358e-04\n",
      "Epoch 178/200\n",
      "1543/1543 [==============================] - 4s 2ms/step - loss: 3.4446e-04 - val_loss: 3.4383e-04\n",
      "Epoch 179/200\n",
      "1543/1543 [==============================] - 3s 2ms/step - loss: 3.4417e-04 - val_loss: 3.4469e-04\n",
      "Epoch 180/200\n",
      "1543/1543 [==============================] - 3s 2ms/step - loss: 3.4401e-04 - val_loss: 3.4354e-04\n",
      "Epoch 181/200\n",
      "1543/1543 [==============================] - 4s 2ms/step - loss: 3.4383e-04 - val_loss: 3.4275e-04\n",
      "Epoch 182/200\n",
      "1543/1543 [==============================] - 3s 2ms/step - loss: 3.4380e-04 - val_loss: 3.4292e-04\n",
      "Epoch 183/200\n",
      "1543/1543 [==============================] - 3s 2ms/step - loss: 3.4341e-04 - val_loss: 3.4583e-04\n",
      "Epoch 184/200\n",
      "1543/1543 [==============================] - 3s 2ms/step - loss: 3.4330e-04 - val_loss: 3.4249e-04\n",
      "Epoch 185/200\n",
      "1543/1543 [==============================] - 3s 2ms/step - loss: 3.4316e-04 - val_loss: 3.4575e-04\n",
      "Epoch 186/200\n",
      "1543/1543 [==============================] - 3s 2ms/step - loss: 3.4287e-04 - val_loss: 3.4291e-04\n",
      "Epoch 187/200\n",
      "1543/1543 [==============================] - 3s 2ms/step - loss: 3.4276e-04 - val_loss: 3.4168e-04\n",
      "Epoch 188/200\n",
      "1543/1543 [==============================] - 3s 2ms/step - loss: 3.4253e-04 - val_loss: 3.4174e-04\n",
      "Epoch 189/200\n",
      "1543/1543 [==============================] - 3s 2ms/step - loss: 3.4223e-04 - val_loss: 3.4124e-04\n",
      "Epoch 190/200\n",
      "1543/1543 [==============================] - 3s 2ms/step - loss: 3.4223e-04 - val_loss: 3.4109e-04\n",
      "Epoch 191/200\n",
      "1543/1543 [==============================] - 3s 2ms/step - loss: 3.4208e-04 - val_loss: 3.4089e-04\n",
      "Epoch 192/200\n",
      "1543/1543 [==============================] - 3s 2ms/step - loss: 3.4193e-04 - val_loss: 3.4077e-04\n",
      "Epoch 193/200\n",
      "1543/1543 [==============================] - 3s 2ms/step - loss: 3.4191e-04 - val_loss: 3.4199e-04\n",
      "Epoch 194/200\n",
      "1543/1543 [==============================] - 3s 2ms/step - loss: 3.4144e-04 - val_loss: 3.4078e-04\n",
      "Epoch 195/200\n",
      "1543/1543 [==============================] - 2s 2ms/step - loss: 3.4135e-04 - val_loss: 3.4032e-04\n",
      "Epoch 196/200\n",
      "1543/1543 [==============================] - 3s 2ms/step - loss: 3.4115e-04 - val_loss: 3.4006e-04\n",
      "Epoch 197/200\n",
      "1543/1543 [==============================] - 3s 2ms/step - loss: 3.4084e-04 - val_loss: 3.3994e-04\n",
      "Epoch 198/200\n",
      "1543/1543 [==============================] - 2s 2ms/step - loss: 3.4079e-04 - val_loss: 3.4053e-04\n",
      "Epoch 199/200\n",
      "1543/1543 [==============================] - 2s 2ms/step - loss: 3.4052e-04 - val_loss: 3.4454e-04\n",
      "Epoch 200/200\n",
      "1543/1543 [==============================] - 2s 2ms/step - loss: 3.4046e-04 - val_loss: 3.4135e-04\n",
      "Time for ANN fitting: 516.842\n"
     ]
    }
   ],
   "source": [
    "#running the model ,stime =time.time() is used for measuring the training time.\n",
    "#hist=model.fit(inputs_train,outputs_train, batch_size=number, epochs=number,validation_data=(inputs_val,outputs_val))\n",
    "# batch_size: number of training data per batch,in this work 32 is used. Other options may be aslso available.\n",
    "# it must be taken into account bigger batch_size implies faster converge but more risk of getting stuck in an local \n",
    "# minima. This choice must be a trade-off between speed of convergence and ovoid local minima.\n",
    "# epochs: numbers of feedforward and backpropagation over the whole training set. It can be as larger as we want \n",
    "# but if this number is so large more risk of overfitting , it should be defined looking loss and val_loss while\n",
    "# the model is being trained.\n",
    "# validation_data is used in order to visualize through the loss function if overfitting is ocurring.\n",
    "\n",
    "stime = time.time()\n",
    "hist = model.fit(X_train, y_train,          batch_size=32, epochs=200,          validation_data=(X_val, y_val))\n",
    "print(\"Time for ANN fitting: %.3f\" % (time.time() - stime))"
   ]
  },
  {
   "cell_type": "code",
   "execution_count": 24,
   "metadata": {},
   "outputs": [
    {
     "name": "stdout",
     "output_type": "stream",
     "text": [
      "331/331 [==============================] - 0s 1ms/step - loss: 3.4558e-04\n"
     ]
    },
    {
     "data": {
      "text/plain": [
       "0.0003455805126577616"
      ]
     },
     "execution_count": 24,
     "metadata": {},
     "output_type": "execute_result"
    }
   ],
   "source": [
    "# model is evaluated comparing predictions with test data. It provides the mean squared error\n",
    "# model.evaluate(inputs_test,outputs_test)\n",
    "model.evaluate(X_test, y_test)"
   ]
  },
  {
   "cell_type": "markdown",
   "metadata": {},
   "source": [
    "Plotting loss function for training data and test data"
   ]
  },
  {
   "cell_type": "code",
   "execution_count": 25,
   "metadata": {},
   "outputs": [
    {
     "data": {
      "image/png": "[encoded data removed]",
      "text/plain": [
       "<Figure size 432x288 with 1 Axes>"
      ]
     },
     "metadata": {
      "needs_background": "light"
     },
     "output_type": "display_data"
    }
   ],
   "source": [
    "plt.plot(hist.history['loss']) #plot loss for training data\n",
    "plt.plot(hist.history['val_loss']) #plot loss for val_loss\n",
    "plt.title('Model loss')    #title, it can be changed by the user\n",
    "plt.ylabel('Loss')         #y-label, shows loss is the most common label, user can change it\n",
    "plt.xlabel('Epoch')        #x-label, shows epochs\n",
    "plt.legend(['Train', 'Val'], loc='upper right') #legend\n",
    "plt.show()"
   ]
  },
  {
   "cell_type": "markdown",
   "metadata": {},
   "source": [
    "Statistical measures "
   ]
  },
  {
   "cell_type": "code",
   "execution_count": 26,
   "metadata": {},
   "outputs": [
    {
     "name": "stdout",
     "output_type": "stream",
     "text": [
      "mean square error training data: 0.000341\n",
      "mean square error test data: 0.000346\n",
      "R^2 training data: 0.997045\n",
      "R^2 test data: 0.997036\n"
     ]
    }
   ],
   "source": [
    "#import coefficient of determination and mean squared error\n",
    "from sklearn.metrics import r2_score, mean_squared_error\n",
    "# print mean square error and coefficient of determination for training data,test data with respect to\n",
    "# predictions computed by the model.\n",
    "# predictions are computed as follow: model.predict(inputs_train),model.predict(inputs_test)\n",
    "print(\"mean square error training data: %.6f\"% mean_squared_error(y_train,model.predict(X_train)))\n",
    "print(\"mean square error test data: %.6f\"% mean_squared_error(y_test,model.predict(X_test)))\n",
    "print(\"R^2 training data: %.6f\"% r2_score(y_train,model.predict(X_train)))\n",
    "print(\"R^2 test data: %.6f\"% r2_score(y_test,model.predict(X_test)))"
   ]
  },
  {
   "cell_type": "code",
   "execution_count": 27,
   "metadata": {},
   "outputs": [
    {
     "name": "stdout",
     "output_type": "stream",
     "text": [
      "[[0.0157835]]\n",
      "Time for ANN predicting: 0.074\n"
     ]
    }
   ],
   "source": [
    "# measuring time spent for ANN computing a new output\n",
    "stime=time.time()\n",
    "# always apply minmax.transform([[inputs]]) before computing a prediction using the ANN.\n",
    "print(model.predict(minmax.transform([[1.644374,0.354820999999999]])))\n",
    "print(\"Time for ANN predicting: %.3f\" % (time.time() - stime))"
   ]
  },
  {
   "cell_type": "code",
   "execution_count": 28,
   "metadata": {},
   "outputs": [],
   "source": [
    "#for undo the scaling, use minmax_output.inverse_transform(model.predict...)\n",
    "# example of how to obtain a prediction given in the line below:\n",
    "#print(minmax_output.inverse_transform(model.predict(minmax.transform([[1.644374,0.354820999999999]]))))"
   ]
  },
  {
   "cell_type": "markdown",
   "metadata": {},
   "source": [
    "Plotting results "
   ]
  },
  {
   "cell_type": "code",
   "execution_count": 29,
   "metadata": {},
   "outputs": [],
   "source": [
    "v_air=np.linspace(1.7,1.1,100) # air volumetric flows in decreasing order which implies increasing eq.ratios"
   ]
  },
  {
   "cell_type": "code",
   "execution_count": 30,
   "metadata": {},
   "outputs": [],
   "source": [
    "v_H2=np.linspace(0.3,0.9,100) # H2 volumetric flows in increasing order which implies increasing eq.ratios"
   ]
  },
  {
   "cell_type": "code",
   "execution_count": 31,
   "metadata": {},
   "outputs": [],
   "source": [
    "# compute equivalence ratios for a combination of air and hydrogen volumentric flows\n",
    "rho_H2=0.0836 # hidrogen density m^3/kg\n",
    "rho_air=1.1972 # air density m^3/kg\n",
    "rho_N2=1.1639 # nitrogen density m^3/kg\n",
    "rho_O2=1.3302 # oxigen density m^3/kg\n",
    "st_ratio_H2_O2=0.125 # Stoichiometric ratio Hidrogen-oxigen\n",
    "dilrat_air_mfr=4*rho_N2/rho_O2  # Dilation ratio air\n",
    "\n",
    "# defining function to calculate equivalence ratios\n",
    "def ratio(x,y):\n",
    "    mfl_air=(x/1000)*(rho_air/60)\n",
    "    mfl_H2=(y/1000)*(rho_H2/60)\n",
    "    mfr_H2=mfl_H2/(mfl_air+mfl_H2)\n",
    "    mfr_air=mfl_H2/(mfl_air+mfl_H2)\n",
    "    mfr_O2=(1-mfr_H2)/(1+dilrat_air_mfr)\n",
    "    return (mfr_H2/mfr_O2)/st_ratio_H2_O2\n",
    "z=[]  #create list for prediction values\n",
    "ratios=[] #create list for ratios\n",
    "\n",
    "# routine to compute equivalence ratios and predicted values given by ANN\n",
    "# inputs in the model bust be enter as a single array, like this example [[1.345,0.987]]\n",
    "# always scale them , as follow minmax_input.transform([[1.345,0.987]])\n",
    "# model.preditc([inputs])\n",
    "# always undo the scaling of the output using minmax_output.inverse_transform(output)\n",
    "for i in range(0,len(v_air)):\n",
    "    z1=model.predict(minmax.transform(np.array([v_air[i],v_H2[i]]).reshape(1,-1)))\n",
    "    z.append(minmax_output.inverse_transform(z1))    # adding output to list of outputs\n",
    "    ratios.append(ratio(v_air[i],v_H2[i])) # adding eq.ratios to using function defined above"
   ]
  },
  {
   "cell_type": "code",
   "execution_count": 32,
   "metadata": {},
   "outputs": [
    {
     "name": "stdout",
     "output_type": "stream",
     "text": [
      "33\n",
      "data_0.5125_1_0.35_0.05.csv\n",
      "data_0.525_1_0.35_0.05.csv\n",
      "data_0.5375_1_0.35_0.05.csv\n",
      "data_0.55_1_0.35_0.05.csv\n",
      "data_0.5625_1_0.35_0.05.csv\n",
      "data_0.575_1_0.35_0.05.csv\n",
      "data_0.5875_1_0.35_0.05.csv\n",
      "data_0.5_1_0.35_0.05.csv\n",
      "data_0.6125_1_0.35_0.05.csv\n",
      "data_0.625_1_0.35_0.05.csv\n",
      "data_0.6375_1_0.35_0.05.csv\n",
      "data_0.65_1_0.35_0.05.csv\n",
      "data_0.6625_1_0.35_0.05.csv\n",
      "data_0.675_1_0.35_0.05.csv\n",
      "data_0.6875_1_0.35_0.05.csv\n",
      "data_0.6_1_0.35_0.05.csv\n",
      "data_0.7125_1_0.35_0.05.csv\n",
      "data_0.725_1_0.35_0.05.csv\n",
      "data_0.7375_1_0.35_0.05.csv\n",
      "data_0.75_1_0.35_0.05.csv\n",
      "data_0.7_1_0.35_0.05.csv\n",
      "data_0.8_1_0.35_0.05.csv\n",
      "data_0.9_1_0.35_0.05.csv\n",
      "data_1.0_1_0.35_0.05.csv\n",
      "data_1.1_1_0.35_0.05.csv\n",
      "data_1.2_1_0.35_0.05.csv\n",
      "data_1.3_1_0.35_0.05.csv\n",
      "data_1.4_1_0.35_0.05.csv\n",
      "data_1.5_1_0.35_0.05.csv\n",
      "data_1.6_1_0.35_0.05.csv\n",
      "data_1.7_1_0.35_0.05.csv\n",
      "data_1.8_1_0.35_0.05.csv\n"
     ]
    }
   ],
   "source": [
    "# computing from each data set the mean sensor measurements and mean equivalen ratio in order to plot them\n",
    "# with the predicted values\n",
    "\n",
    "import os #import library to read file from a specific directory\n",
    "\n",
    "# counting number of files in a directory\n",
    "max=0\n",
    "for files in os.listdir('Data/Data_svenja_clean_0.4'):\n",
    "    max=max+1\n",
    "print(max)\n",
    "\n",
    "mean_ratio=[]  # create list to save mean equivalence ratios\n",
    "mean_sensor=[] # create list to save mean sensor measurements\n",
    "\n",
    "#reading each file and calculating mean equivalence ratios and sensor measurements\n",
    "\n",
    "for j in range(1,max):\n",
    "    name=os.listdir('Data/Data_svenja_clean_0.4')[j]# reading first file and extracting its name\n",
    "    print(name)    # checking names\n",
    "    \n",
    "    #reading file at location 'Data/Data_svenja_clean_0.4/' this location can be changed by the user\n",
    "    dataset=pd.read_csv('Data/Data_svenja_clean_0.4/'+name,header=None)#reading csv file\n",
    "    X1=dataset.values[:,:]    #converting to array\n",
    "    mean1=np.mean(X1[:,10])   #computing mean equivalence ratio\n",
    "    mean_ratio.append(mean1)  #adding previous mean equivalence ratio to list of equivalence ratios\n",
    "    mean2=np.mean(X1[:,3])    #computing mean sensor measurements\n",
    "    mean_sensor.append(mean2) #adding previous mean sensor measurements to a list of sensor measurements"
   ]
  },
  {
   "cell_type": "code",
   "execution_count": 33,
   "metadata": {},
   "outputs": [
    {
     "data": {
      "image/png": "[encoded data removed]",
      "text/plain": [
       "<Figure size 432x288 with 1 Axes>"
      ]
     },
     "metadata": {
      "needs_background": "light"
     },
     "output_type": "display_data"
    }
   ],
   "source": [
    "#plotting results\n",
    "z=np.array(z) # converting list to an array\n",
    "#print(z)\n",
    "z=z.reshape(len(v_air),1) #converting to a column array\n",
    "#print(z) #check the right shape of z (optional)\n",
    "plt.plot(mean_ratio, mean_sensor, 'r.', markersize=10, label='Observations')  # plotting observations\n",
    "plt.plot(ratios, z,'b-',label='predictions') #plotting predictions\n",
    "plt.title('Results ANN ')#defining titles\n",
    "plt.xlabel('Equivalence ratio[-]') #defining x-axis equivalen ratios\n",
    "plt.ylabel('Sensor measurement[V]') #y-axis sensor measurements\n",
    "plt.legend(loc='upper left') #adding a legend\n",
    "plt.show()                   #show plot"
   ]
  },
  {
   "cell_type": "markdown",
   "metadata": {},
   "source": [
    "Plotting heatmap for showing volumetrics flow respect to temperatures (optional, very time consuming around 1 hour plotting)"
   ]
  },
  {
   "cell_type": "code",
   "execution_count": 34,
   "metadata": {},
   "outputs": [],
   "source": [
    "u=pd.read_csv('clustering_plot.csv',header=None).values[:,[1,2]]\n",
    "u1=minmax.transform(u)\n",
    "n=u1.shape[0]\n",
    "x_plot=[]\n",
    "y_plot=[]\n",
    "for i in range(0,n):\n",
    "    x_plot.append(u1[i][0])\n",
    "    y_plot.append(u1[i][1])\n",
    "#print(x_plot)\n",
    "#print(y_plot)"
   ]
  },
  {
   "cell_type": "code",
   "execution_count": 31,
   "metadata": {},
   "outputs": [
    {
     "name": "stdout",
     "output_type": "stream",
     "text": [
      "Time for ANN predicting: 5432.572\n"
     ]
    }
   ],
   "source": [
    "for array in (x_plot,y_plot):\n",
    "    temp = 0    \n",
    "    for i in range(0, len(array)):  \n",
    "        for j in range(i+1, len(array)):  \n",
    "            if(array[i] > array[j]):  \n",
    "                temp = array[i] \n",
    "                array[i] = array[j]  \n",
    "                array[j] = temp\n",
    "#print(np.size(x_plot))\n",
    "#print(np.size(y_plot))\n",
    "x_mesh,y_mesh=np.meshgrid(x_plot,y_plot)\n",
    "stime=time.time()\n",
    "z=[]\n",
    "for j in range(0,np.size(x_plot)):\n",
    "    for i in range(0,np.size(y_plot)):\n",
    "        z1=model.predict([[x_plot[i],y_plot[j]]])\n",
    "        z.append(minmax_output.inverse_transform(z1))\n",
    "print(\"Time for ANN predicting: %.3f\" % (time.time() - stime))"
   ]
  },
  {
   "cell_type": "code",
   "execution_count": 35,
   "metadata": {},
   "outputs": [
    {
     "data": {
      "image/png": "[encoded data removed]",
      "text/plain": [
       "<Figure size 432x288 with 2 Axes>"
      ]
     },
     "metadata": {
      "needs_background": "light"
     },
     "output_type": "display_data"
    }
   ],
   "source": [
    "u2=pd.read_csv('clustering_plot.csv',header=None).values[:,[1,2]]\n",
    "n=u2.shape[0]\n",
    "x_plot_1=[]\n",
    "y_plot_1=[]\n",
    "for i in range(0,n):\n",
    "    x_plot_1.append(u2[i][0])\n",
    "    y_plot_1.append(u2[i][1])\n",
    "for array in (x_plot_1,y_plot_1):\n",
    "    temp = 0    \n",
    "    for i in range(0, len(array)):  \n",
    "        for j in range(i+1, len(array)):  \n",
    "            if(array[i] > array[j]):  \n",
    "                temp = array[i] \n",
    "                array[i] = array[j]  \n",
    "                array[j] = temp\n",
    "#print(x_plot_1)\n",
    "#print(y_plot_1)\n",
    "x_mesh_1,y_mesh_1=np.meshgrid(x_plot_1,y_plot_1)\n",
    "        \n",
    "z2=np.array(z)\n",
    "#print(z2[1:10])\n",
    "z_plot=np.reshape(z,newshape=(np.size(x_plot_1),np.size(y_plot_1)))\n",
    "#print(z_plot)\n",
    "plt.imshow(1000*z_plot,extent=[np.min(x_mesh_1),np.max(x_mesh_1),np.min(y_mesh_1),np.max(y_mesh_1)],interpolation=None,origin='lower')\n",
    "#plt.contourf(x_mesh_1,y_mesh_1,z_plot)\n",
    "plt.title('Measurement sensor [mV] for ANN')\n",
    "plt.xlabel('volumetric flow air[m^3/s]')\n",
    "plt.ylabel('volumetric flow H_2[m^3/s]')\n",
    "plt.colorbar()\n",
    "plt.show()"
   ]
  }
 ],
 "metadata": {
  "kernelspec": {
   "display_name": "Python 3 (ipykernel)",
   "language": "python",
   "name": "python3"
  },
  "language_info": {
   "codemirror_mode": {
    "name": "ipython",
    "version": 3
   },
   "file_extension": ".py",
   "mimetype": "text/x-python",
   "name": "python",
   "nbconvert_exporter": "python",
   "pygments_lexer": "ipython3",
   "version": "3.10.4"
  }
 },
 "nbformat": 4,
 "nbformat_minor": 4
}
