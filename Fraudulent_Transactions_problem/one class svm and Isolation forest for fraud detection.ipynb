{
 "cells": [
  {
   "cell_type": "markdown",
   "metadata": {},
   "source": [
    "# One class SVM and Isolation Forest for detecting fraudulent transaction."
   ]
  },
  {
   "cell_type": "markdown",
   "metadata": {},
   "source": [
    "using One class SVM and Isolation forest for clasification problem.\n",
    "The task is to predict when a bank transaction is fraudulent or not. \n",
    "It must be noted that the Fraudulent class is highly imbalanced with respect to the whole data set.\n",
    "It represents less that 0.2% of the total number of samples, therefore the classification task is very challenging\n",
    "and the common performance metrics for classification problems are meaningless for highly imbalanced datasets."
   ]
  },
  {
   "cell_type": "code",
   "execution_count": 47,
   "metadata": {},
   "outputs": [],
   "source": [
    "import numpy as np\n",
    "import pandas as pd\n",
    "import matplotlib.pyplot as plt\n",
    "from sklearn import svm"
   ]
  },
  {
   "cell_type": "markdown",
   "metadata": {},
   "source": [
    "# Preprocess data"
   ]
  },
  {
   "cell_type": "code",
   "execution_count": 48,
   "metadata": {},
   "outputs": [],
   "source": [
    "df=pd.read_csv('Data/classnofraud.csv',header=None)"
   ]
  },
  {
   "cell_type": "code",
   "execution_count": 49,
   "metadata": {},
   "outputs": [
    {
     "data": {
      "text/html": [
       "<div>\n",
       "<style scoped>\n",
       "    .dataframe tbody tr th:only-of-type {\n",
       "        vertical-align: middle;\n",
       "    }\n",
       "\n",
       "    .dataframe tbody tr th {\n",
       "        vertical-align: top;\n",
       "    }\n",
       "\n",
       "    .dataframe thead th {\n",
       "        text-align: right;\n",
       "    }\n",
       "</style>\n",
       "<table border=\"1\" class=\"dataframe\">\n",
       "  <thead>\n",
       "    <tr style=\"text-align: right;\">\n",
       "      <th></th>\n",
       "      <th>0</th>\n",
       "      <th>1</th>\n",
       "      <th>2</th>\n",
       "      <th>3</th>\n",
       "      <th>4</th>\n",
       "      <th>5</th>\n",
       "      <th>6</th>\n",
       "      <th>7</th>\n",
       "      <th>8</th>\n",
       "      <th>9</th>\n",
       "      <th>...</th>\n",
       "      <th>21</th>\n",
       "      <th>22</th>\n",
       "      <th>23</th>\n",
       "      <th>24</th>\n",
       "      <th>25</th>\n",
       "      <th>26</th>\n",
       "      <th>27</th>\n",
       "      <th>28</th>\n",
       "      <th>29</th>\n",
       "      <th>30</th>\n",
       "    </tr>\n",
       "  </thead>\n",
       "  <tbody>\n",
       "    <tr>\n",
       "      <th>0</th>\n",
       "      <td>0.0</td>\n",
       "      <td>-1.359807</td>\n",
       "      <td>-0.072781</td>\n",
       "      <td>2.536347</td>\n",
       "      <td>1.378155</td>\n",
       "      <td>-0.338321</td>\n",
       "      <td>0.462388</td>\n",
       "      <td>0.239599</td>\n",
       "      <td>0.098698</td>\n",
       "      <td>0.363787</td>\n",
       "      <td>...</td>\n",
       "      <td>-0.018307</td>\n",
       "      <td>0.277838</td>\n",
       "      <td>-0.110474</td>\n",
       "      <td>0.066928</td>\n",
       "      <td>0.128539</td>\n",
       "      <td>-0.189115</td>\n",
       "      <td>0.133558</td>\n",
       "      <td>-0.021053</td>\n",
       "      <td>149.62</td>\n",
       "      <td>0</td>\n",
       "    </tr>\n",
       "    <tr>\n",
       "      <th>1</th>\n",
       "      <td>0.0</td>\n",
       "      <td>1.191857</td>\n",
       "      <td>0.266151</td>\n",
       "      <td>0.166480</td>\n",
       "      <td>0.448154</td>\n",
       "      <td>0.060018</td>\n",
       "      <td>-0.082361</td>\n",
       "      <td>-0.078803</td>\n",
       "      <td>0.085102</td>\n",
       "      <td>-0.255425</td>\n",
       "      <td>...</td>\n",
       "      <td>-0.225775</td>\n",
       "      <td>-0.638672</td>\n",
       "      <td>0.101288</td>\n",
       "      <td>-0.339846</td>\n",
       "      <td>0.167170</td>\n",
       "      <td>0.125895</td>\n",
       "      <td>-0.008983</td>\n",
       "      <td>0.014724</td>\n",
       "      <td>2.69</td>\n",
       "      <td>0</td>\n",
       "    </tr>\n",
       "    <tr>\n",
       "      <th>2</th>\n",
       "      <td>1.0</td>\n",
       "      <td>-1.358354</td>\n",
       "      <td>-1.340163</td>\n",
       "      <td>1.773209</td>\n",
       "      <td>0.379780</td>\n",
       "      <td>-0.503198</td>\n",
       "      <td>1.800499</td>\n",
       "      <td>0.791461</td>\n",
       "      <td>0.247676</td>\n",
       "      <td>-1.514654</td>\n",
       "      <td>...</td>\n",
       "      <td>0.247998</td>\n",
       "      <td>0.771679</td>\n",
       "      <td>0.909412</td>\n",
       "      <td>-0.689281</td>\n",
       "      <td>-0.327642</td>\n",
       "      <td>-0.139097</td>\n",
       "      <td>-0.055353</td>\n",
       "      <td>-0.059752</td>\n",
       "      <td>378.66</td>\n",
       "      <td>0</td>\n",
       "    </tr>\n",
       "    <tr>\n",
       "      <th>3</th>\n",
       "      <td>1.0</td>\n",
       "      <td>-0.966272</td>\n",
       "      <td>-0.185226</td>\n",
       "      <td>1.792993</td>\n",
       "      <td>-0.863291</td>\n",
       "      <td>-0.010309</td>\n",
       "      <td>1.247203</td>\n",
       "      <td>0.237609</td>\n",
       "      <td>0.377436</td>\n",
       "      <td>-1.387024</td>\n",
       "      <td>...</td>\n",
       "      <td>-0.108300</td>\n",
       "      <td>0.005274</td>\n",
       "      <td>-0.190321</td>\n",
       "      <td>-1.175575</td>\n",
       "      <td>0.647376</td>\n",
       "      <td>-0.221929</td>\n",
       "      <td>0.062723</td>\n",
       "      <td>0.061458</td>\n",
       "      <td>123.50</td>\n",
       "      <td>0</td>\n",
       "    </tr>\n",
       "    <tr>\n",
       "      <th>4</th>\n",
       "      <td>2.0</td>\n",
       "      <td>-1.158233</td>\n",
       "      <td>0.877737</td>\n",
       "      <td>1.548718</td>\n",
       "      <td>0.403034</td>\n",
       "      <td>-0.407193</td>\n",
       "      <td>0.095921</td>\n",
       "      <td>0.592941</td>\n",
       "      <td>-0.270533</td>\n",
       "      <td>0.817739</td>\n",
       "      <td>...</td>\n",
       "      <td>-0.009431</td>\n",
       "      <td>0.798278</td>\n",
       "      <td>-0.137458</td>\n",
       "      <td>0.141267</td>\n",
       "      <td>-0.206010</td>\n",
       "      <td>0.502292</td>\n",
       "      <td>0.219422</td>\n",
       "      <td>0.215153</td>\n",
       "      <td>69.99</td>\n",
       "      <td>0</td>\n",
       "    </tr>\n",
       "    <tr>\n",
       "      <th>...</th>\n",
       "      <td>...</td>\n",
       "      <td>...</td>\n",
       "      <td>...</td>\n",
       "      <td>...</td>\n",
       "      <td>...</td>\n",
       "      <td>...</td>\n",
       "      <td>...</td>\n",
       "      <td>...</td>\n",
       "      <td>...</td>\n",
       "      <td>...</td>\n",
       "      <td>...</td>\n",
       "      <td>...</td>\n",
       "      <td>...</td>\n",
       "      <td>...</td>\n",
       "      <td>...</td>\n",
       "      <td>...</td>\n",
       "      <td>...</td>\n",
       "      <td>...</td>\n",
       "      <td>...</td>\n",
       "      <td>...</td>\n",
       "      <td>...</td>\n",
       "    </tr>\n",
       "    <tr>\n",
       "      <th>284310</th>\n",
       "      <td>172786.0</td>\n",
       "      <td>-11.881118</td>\n",
       "      <td>10.071785</td>\n",
       "      <td>-9.834783</td>\n",
       "      <td>-2.066656</td>\n",
       "      <td>-5.364473</td>\n",
       "      <td>-2.606837</td>\n",
       "      <td>-4.918215</td>\n",
       "      <td>7.305334</td>\n",
       "      <td>1.914428</td>\n",
       "      <td>...</td>\n",
       "      <td>0.213454</td>\n",
       "      <td>0.111864</td>\n",
       "      <td>1.014480</td>\n",
       "      <td>-0.509348</td>\n",
       "      <td>1.436807</td>\n",
       "      <td>0.250034</td>\n",
       "      <td>0.943651</td>\n",
       "      <td>0.823731</td>\n",
       "      <td>0.77</td>\n",
       "      <td>0</td>\n",
       "    </tr>\n",
       "    <tr>\n",
       "      <th>284311</th>\n",
       "      <td>172787.0</td>\n",
       "      <td>-0.732789</td>\n",
       "      <td>-0.055080</td>\n",
       "      <td>2.035030</td>\n",
       "      <td>-0.738589</td>\n",
       "      <td>0.868229</td>\n",
       "      <td>1.058415</td>\n",
       "      <td>0.024330</td>\n",
       "      <td>0.294869</td>\n",
       "      <td>0.584800</td>\n",
       "      <td>...</td>\n",
       "      <td>0.214205</td>\n",
       "      <td>0.924384</td>\n",
       "      <td>0.012463</td>\n",
       "      <td>-1.016226</td>\n",
       "      <td>-0.606624</td>\n",
       "      <td>-0.395255</td>\n",
       "      <td>0.068472</td>\n",
       "      <td>-0.053527</td>\n",
       "      <td>24.79</td>\n",
       "      <td>0</td>\n",
       "    </tr>\n",
       "    <tr>\n",
       "      <th>284312</th>\n",
       "      <td>172788.0</td>\n",
       "      <td>1.919565</td>\n",
       "      <td>-0.301254</td>\n",
       "      <td>-3.249640</td>\n",
       "      <td>-0.557828</td>\n",
       "      <td>2.630515</td>\n",
       "      <td>3.031260</td>\n",
       "      <td>-0.296827</td>\n",
       "      <td>0.708417</td>\n",
       "      <td>0.432454</td>\n",
       "      <td>...</td>\n",
       "      <td>0.232045</td>\n",
       "      <td>0.578229</td>\n",
       "      <td>-0.037501</td>\n",
       "      <td>0.640134</td>\n",
       "      <td>0.265745</td>\n",
       "      <td>-0.087371</td>\n",
       "      <td>0.004455</td>\n",
       "      <td>-0.026561</td>\n",
       "      <td>67.88</td>\n",
       "      <td>0</td>\n",
       "    </tr>\n",
       "    <tr>\n",
       "      <th>284313</th>\n",
       "      <td>172788.0</td>\n",
       "      <td>-0.240440</td>\n",
       "      <td>0.530483</td>\n",
       "      <td>0.702510</td>\n",
       "      <td>0.689799</td>\n",
       "      <td>-0.377961</td>\n",
       "      <td>0.623708</td>\n",
       "      <td>-0.686180</td>\n",
       "      <td>0.679145</td>\n",
       "      <td>0.392087</td>\n",
       "      <td>...</td>\n",
       "      <td>0.265245</td>\n",
       "      <td>0.800049</td>\n",
       "      <td>-0.163298</td>\n",
       "      <td>0.123205</td>\n",
       "      <td>-0.569159</td>\n",
       "      <td>0.546668</td>\n",
       "      <td>0.108821</td>\n",
       "      <td>0.104533</td>\n",
       "      <td>10.00</td>\n",
       "      <td>0</td>\n",
       "    </tr>\n",
       "    <tr>\n",
       "      <th>284314</th>\n",
       "      <td>172792.0</td>\n",
       "      <td>-0.533413</td>\n",
       "      <td>-0.189733</td>\n",
       "      <td>0.703337</td>\n",
       "      <td>-0.506271</td>\n",
       "      <td>-0.012546</td>\n",
       "      <td>-0.649617</td>\n",
       "      <td>1.577006</td>\n",
       "      <td>-0.414650</td>\n",
       "      <td>0.486180</td>\n",
       "      <td>...</td>\n",
       "      <td>0.261057</td>\n",
       "      <td>0.643078</td>\n",
       "      <td>0.376777</td>\n",
       "      <td>0.008797</td>\n",
       "      <td>-0.473649</td>\n",
       "      <td>-0.818267</td>\n",
       "      <td>-0.002415</td>\n",
       "      <td>0.013649</td>\n",
       "      <td>217.00</td>\n",
       "      <td>0</td>\n",
       "    </tr>\n",
       "  </tbody>\n",
       "</table>\n",
       "<p>284315 rows × 31 columns</p>\n",
       "</div>"
      ],
      "text/plain": [
       "              0          1          2         3         4         5   \\\n",
       "0            0.0  -1.359807  -0.072781  2.536347  1.378155 -0.338321   \n",
       "1            0.0   1.191857   0.266151  0.166480  0.448154  0.060018   \n",
       "2            1.0  -1.358354  -1.340163  1.773209  0.379780 -0.503198   \n",
       "3            1.0  -0.966272  -0.185226  1.792993 -0.863291 -0.010309   \n",
       "4            2.0  -1.158233   0.877737  1.548718  0.403034 -0.407193   \n",
       "...          ...        ...        ...       ...       ...       ...   \n",
       "284310  172786.0 -11.881118  10.071785 -9.834783 -2.066656 -5.364473   \n",
       "284311  172787.0  -0.732789  -0.055080  2.035030 -0.738589  0.868229   \n",
       "284312  172788.0   1.919565  -0.301254 -3.249640 -0.557828  2.630515   \n",
       "284313  172788.0  -0.240440   0.530483  0.702510  0.689799 -0.377961   \n",
       "284314  172792.0  -0.533413  -0.189733  0.703337 -0.506271 -0.012546   \n",
       "\n",
       "              6         7         8         9   ...        21        22  \\\n",
       "0       0.462388  0.239599  0.098698  0.363787  ... -0.018307  0.277838   \n",
       "1      -0.082361 -0.078803  0.085102 -0.255425  ... -0.225775 -0.638672   \n",
       "2       1.800499  0.791461  0.247676 -1.514654  ...  0.247998  0.771679   \n",
       "3       1.247203  0.237609  0.377436 -1.387024  ... -0.108300  0.005274   \n",
       "4       0.095921  0.592941 -0.270533  0.817739  ... -0.009431  0.798278   \n",
       "...          ...       ...       ...       ...  ...       ...       ...   \n",
       "284310 -2.606837 -4.918215  7.305334  1.914428  ...  0.213454  0.111864   \n",
       "284311  1.058415  0.024330  0.294869  0.584800  ...  0.214205  0.924384   \n",
       "284312  3.031260 -0.296827  0.708417  0.432454  ...  0.232045  0.578229   \n",
       "284313  0.623708 -0.686180  0.679145  0.392087  ...  0.265245  0.800049   \n",
       "284314 -0.649617  1.577006 -0.414650  0.486180  ...  0.261057  0.643078   \n",
       "\n",
       "              23        24        25        26        27        28      29  30  \n",
       "0      -0.110474  0.066928  0.128539 -0.189115  0.133558 -0.021053  149.62   0  \n",
       "1       0.101288 -0.339846  0.167170  0.125895 -0.008983  0.014724    2.69   0  \n",
       "2       0.909412 -0.689281 -0.327642 -0.139097 -0.055353 -0.059752  378.66   0  \n",
       "3      -0.190321 -1.175575  0.647376 -0.221929  0.062723  0.061458  123.50   0  \n",
       "4      -0.137458  0.141267 -0.206010  0.502292  0.219422  0.215153   69.99   0  \n",
       "...          ...       ...       ...       ...       ...       ...     ...  ..  \n",
       "284310  1.014480 -0.509348  1.436807  0.250034  0.943651  0.823731    0.77   0  \n",
       "284311  0.012463 -1.016226 -0.606624 -0.395255  0.068472 -0.053527   24.79   0  \n",
       "284312 -0.037501  0.640134  0.265745 -0.087371  0.004455 -0.026561   67.88   0  \n",
       "284313 -0.163298  0.123205 -0.569159  0.546668  0.108821  0.104533   10.00   0  \n",
       "284314  0.376777  0.008797 -0.473649 -0.818267 -0.002415  0.013649  217.00   0  \n",
       "\n",
       "[284315 rows x 31 columns]"
      ]
     },
     "execution_count": 49,
     "metadata": {},
     "output_type": "execute_result"
    }
   ],
   "source": [
    "df"
   ]
  },
  {
   "cell_type": "code",
   "execution_count": 50,
   "metadata": {},
   "outputs": [],
   "source": [
    "X=df.values"
   ]
  },
  {
   "cell_type": "code",
   "execution_count": 51,
   "metadata": {},
   "outputs": [
    {
     "data": {
      "text/plain": [
       "array([[ 0.00000000e+00, -1.35980713e+00, -7.27811730e-02, ...,\n",
       "        -2.10530530e-02,  1.49620000e+02,  0.00000000e+00],\n",
       "       [ 0.00000000e+00,  1.19185711e+00,  2.66150712e-01, ...,\n",
       "         1.47241690e-02,  2.69000000e+00,  0.00000000e+00],\n",
       "       [ 1.00000000e+00, -1.35835406e+00, -1.34016307e+00, ...,\n",
       "        -5.97518410e-02,  3.78660000e+02,  0.00000000e+00],\n",
       "       ...,\n",
       "       [ 1.72788000e+05,  1.91956501e+00, -3.01253846e-01, ...,\n",
       "        -2.65608290e-02,  6.78800000e+01,  0.00000000e+00],\n",
       "       [ 1.72788000e+05, -2.40440050e-01,  5.30482513e-01, ...,\n",
       "         1.04532821e-01,  1.00000000e+01,  0.00000000e+00],\n",
       "       [ 1.72792000e+05, -5.33412522e-01, -1.89733337e-01, ...,\n",
       "         1.36489140e-02,  2.17000000e+02,  0.00000000e+00]])"
      ]
     },
     "execution_count": 51,
     "metadata": {},
     "output_type": "execute_result"
    }
   ],
   "source": [
    "X"
   ]
  },
  {
   "cell_type": "code",
   "execution_count": 52,
   "metadata": {},
   "outputs": [],
   "source": [
    "from sklearn.model_selection import train_test_split"
   ]
  },
  {
   "cell_type": "code",
   "execution_count": 53,
   "metadata": {},
   "outputs": [],
   "source": [
    "X_train,X_test_val=train_test_split(X,test_size=0.3,random_state=0)"
   ]
  },
  {
   "cell_type": "code",
   "execution_count": 54,
   "metadata": {},
   "outputs": [
    {
     "data": {
      "text/plain": [
       "array([[ 1.35902000e+05, -5.79816915e-01,  4.79066172e-01, ...,\n",
       "         1.91097095e-01,  4.99000000e+00,  0.00000000e+00],\n",
       "       [ 1.72731000e+05,  2.01398681e+00,  5.73802092e-01, ...,\n",
       "        -2.54098650e-02,  4.99000000e+01,  0.00000000e+00],\n",
       "       [ 1.64885000e+05,  1.91202426e+00,  2.70946750e-02, ...,\n",
       "        -6.63312510e-02,  5.88200000e+01,  0.00000000e+00],\n",
       "       ...,\n",
       "       [ 7.67030000e+04,  1.21206092e+00, -3.66070161e-01, ...,\n",
       "         1.61300400e-03,  1.00000000e+00,  0.00000000e+00],\n",
       "       [ 9.74290000e+04,  1.93602827e+00, -3.91544089e-01, ...,\n",
       "        -3.82188150e-02,  1.49500000e+01,  0.00000000e+00],\n",
       "       [ 7.49870000e+04,  1.52743267e+00, -4.61259769e-01, ...,\n",
       "        -2.16501270e-02,  1.00000000e+00,  0.00000000e+00]])"
      ]
     },
     "execution_count": 54,
     "metadata": {},
     "output_type": "execute_result"
    }
   ],
   "source": [
    "X_train"
   ]
  },
  {
   "cell_type": "code",
   "execution_count": 55,
   "metadata": {},
   "outputs": [],
   "source": [
    "X_test,X_val=train_test_split(X_test_val,test_size=0.5,random_state=0)"
   ]
  },
  {
   "cell_type": "code",
   "execution_count": 56,
   "metadata": {},
   "outputs": [],
   "source": [
    "X_fraud_val_test=pd.read_csv('Data/classfraud.csv',header=None).values"
   ]
  },
  {
   "cell_type": "code",
   "execution_count": 57,
   "metadata": {},
   "outputs": [],
   "source": [
    "X_fraud_val,X_fraud_test=train_test_split(X_fraud_val_test,test_size=0.5,random_state=0)"
   ]
  },
  {
   "cell_type": "code",
   "execution_count": 58,
   "metadata": {},
   "outputs": [],
   "source": [
    "X_test=np.concatenate((X_test,X_fraud_test))"
   ]
  },
  {
   "cell_type": "code",
   "execution_count": 59,
   "metadata": {},
   "outputs": [
    {
     "data": {
      "text/plain": [
       "(42893, 31)"
      ]
     },
     "execution_count": 59,
     "metadata": {},
     "output_type": "execute_result"
    }
   ],
   "source": [
    "np.shape(X_test)"
   ]
  },
  {
   "cell_type": "code",
   "execution_count": 60,
   "metadata": {},
   "outputs": [],
   "source": [
    "X_val=np.concatenate((X_val,X_fraud_val))"
   ]
  },
  {
   "cell_type": "code",
   "execution_count": 61,
   "metadata": {},
   "outputs": [],
   "source": [
    "y_train=X_train[:,30]\n",
    "y_test=X_test[:,30]\n",
    "y_val=X_val[:,30]"
   ]
  },
  {
   "cell_type": "code",
   "execution_count": 62,
   "metadata": {},
   "outputs": [
    {
     "name": "stdout",
     "output_type": "stream",
     "text": [
      "[0. 0. 0. ... 0. 0. 0.]\n"
     ]
    }
   ],
   "source": [
    "print(y_train)"
   ]
  },
  {
   "cell_type": "code",
   "execution_count": 63,
   "metadata": {},
   "outputs": [],
   "source": [
    "from sklearn.preprocessing import StandardScaler\n",
    "from sklearn.preprocessing import MinMaxScaler"
   ]
  },
  {
   "cell_type": "code",
   "execution_count": 64,
   "metadata": {},
   "outputs": [],
   "source": [
    "sc=StandardScaler() #instantiate StandardScaler\n",
    "minimum=np.min(X_train[:,0])\n",
    "maximum=np.max(X_train[:,0])\n",
    "X_train[:,0]=(X_train[:,0]-minimum)/(maximum-minimum)\n",
    "X_test[:,0]=(X_test[:,0]-minimum)/(maximum-minimum)\n",
    "X_val[:,0]=(X_val[:,0]-minimum)/(maximum-minimum)"
   ]
  },
  {
   "cell_type": "code",
   "execution_count": 65,
   "metadata": {},
   "outputs": [
    {
     "data": {
      "text/plain": [
       "array([[ 7.86506320e-01, -5.79816915e-01,  4.79066172e-01, ...,\n",
       "         1.91097095e-01,  4.99000000e+00,  0.00000000e+00],\n",
       "       [ 9.99646974e-01,  2.01398681e+00,  5.73802092e-01, ...,\n",
       "        -2.54098650e-02,  4.99000000e+01,  0.00000000e+00],\n",
       "       [ 9.54239780e-01,  1.91202426e+00,  2.70946750e-02, ...,\n",
       "        -6.63312510e-02,  5.88200000e+01,  0.00000000e+00],\n",
       "       ...,\n",
       "       [ 4.43903653e-01,  1.21206092e+00, -3.66070161e-01, ...,\n",
       "         1.61300400e-03,  1.00000000e+00,  0.00000000e+00],\n",
       "       [ 5.63851336e-01,  1.93602827e+00, -3.91544089e-01, ...,\n",
       "        -3.82188150e-02,  1.49500000e+01,  0.00000000e+00],\n",
       "       [ 4.33972638e-01,  1.52743267e+00, -4.61259769e-01, ...,\n",
       "        -2.16501270e-02,  1.00000000e+00,  0.00000000e+00]])"
      ]
     },
     "execution_count": 65,
     "metadata": {},
     "output_type": "execute_result"
    }
   ],
   "source": [
    "X_train"
   ]
  },
  {
   "cell_type": "code",
   "execution_count": 66,
   "metadata": {},
   "outputs": [],
   "source": [
    "X_train[:,1:30]=sc.fit_transform(X_train[:,1:30])  # first fit StandardScaler to the training inputs\n",
    "X_test[:,1:30]=sc.transform(X_test[:,1:30])\n",
    "X_val[:,1:30]=sc.transform(X_val[:,1:30])"
   ]
  },
  {
   "cell_type": "code",
   "execution_count": 67,
   "metadata": {},
   "outputs": [
    {
     "data": {
      "text/plain": [
       "(199020, 31)"
      ]
     },
     "execution_count": 67,
     "metadata": {},
     "output_type": "execute_result"
    }
   ],
   "source": [
    "np.shape(X_train)"
   ]
  },
  {
   "cell_type": "code",
   "execution_count": 68,
   "metadata": {},
   "outputs": [],
   "source": [
    "y_train[y_train==1]=-1\n",
    "y_train[y_train==0]=1\n",
    "y_test[y_test==1]=-1\n",
    "y_test[y_test==0]=1\n",
    "y_val[y_val==1]=-1\n",
    "y_val[y_val==0]=1"
   ]
  },
  {
   "cell_type": "markdown",
   "metadata": {},
   "source": [
    "# One class SVM"
   ]
  },
  {
   "cell_type": "code",
   "execution_count": 69,
   "metadata": {},
   "outputs": [
    {
     "name": "stdout",
     "output_type": "stream",
     "text": [
      "Time for One class SVM predicting: 156.861\n"
     ]
    }
   ],
   "source": [
    "import time\n",
    "clf = svm.OneClassSVM(nu=0.001, kernel=\"rbf\", gamma=0.04)\n",
    "std=time.time()\n",
    "clf.fit(X_train[:,1:30])\n",
    "print(\"Time for One class SVM predicting: %.3f\" % (time.time() - std)) "
   ]
  },
  {
   "cell_type": "code",
   "execution_count": 70,
   "metadata": {},
   "outputs": [
    {
     "name": "stdout",
     "output_type": "stream",
     "text": [
      "Time for One class SVM predicting: 121.411\n"
     ]
    }
   ],
   "source": [
    "std=time.time()\n",
    "y_pred_train = clf.predict(X_train[:,1:30])\n",
    "y_pred_test = clf.predict(X_test[:,1:30])\n",
    "y_pred_val = clf.predict(X_val[:,1:30])\n",
    "n_error_train = y_pred_train[y_pred_train !=y_train].size\n",
    "n_error_test = y_pred_test[y_pred_test != y_test].size\n",
    "n_error_val = y_pred_val[y_pred_val !=y_val].size\n",
    "print(\"Time for One class SVM predicting: %.3f\" % (time.time() - std)) "
   ]
  },
  {
   "cell_type": "code",
   "execution_count": 71,
   "metadata": {},
   "outputs": [
    {
     "name": "stdout",
     "output_type": "stream",
     "text": [
      "error train: 0.007240 ; errors test : 0.014944 ; errors val: 0.012985\n"
     ]
    }
   ],
   "source": [
    "print(\"error train: %3f ; errors test : %3f ; \"\n",
    "    \"errors val: %3f\"\n",
    "    % (n_error_train/np.shape(X_train)[0], n_error_test/np.shape(X_test)[0], n_error_val/np.shape(X_val)[0]))"
   ]
  },
  {
   "cell_type": "code",
   "execution_count": 72,
   "metadata": {},
   "outputs": [],
   "source": [
    "y_train[y_train==1]=0\n",
    "y_train[y_train==-1]=1\n",
    "y_test[y_test==1]=0\n",
    "y_test[y_test==-1]=1\n",
    "y_val[y_val==1]=0\n",
    "y_val[y_val==-1]=1"
   ]
  },
  {
   "cell_type": "code",
   "execution_count": 73,
   "metadata": {},
   "outputs": [],
   "source": [
    "y_pred_train[y_pred_train==1]=0\n",
    "y_pred_train[y_pred_train==-1]=1\n",
    "y_pred_test[y_pred_test==1]=0\n",
    "y_pred_test[y_pred_test==-1]=1\n",
    "y_pred_val[y_pred_val==1]=0\n",
    "y_pred_val[y_pred_val==-1]=1"
   ]
  },
  {
   "cell_type": "code",
   "execution_count": 74,
   "metadata": {},
   "outputs": [
    {
     "name": "stdout",
     "output_type": "stream",
     "text": [
      "0.9166795343389563\n",
      "0.899528193349793\n"
     ]
    }
   ],
   "source": [
    "from sklearn.metrics import roc_auc_score\n",
    "#print(roc_auc_score(y_train, y_pred_train))\n",
    "print(roc_auc_score(y_val, y_pred_val))\n",
    "print(roc_auc_score(y_test, y_pred_test))"
   ]
  },
  {
   "cell_type": "code",
   "execution_count": 75,
   "metadata": {},
   "outputs": [],
   "source": [
    "from sklearn.metrics import precision_recall_curve\n",
    "precision_val, recall_val, thresholds_val = precision_recall_curve(y_val, y_pred_val)\n",
    "precision_test, recall_test, thresholds_test = precision_recall_curve(y_test, y_pred_test)"
   ]
  },
  {
   "cell_type": "code",
   "execution_count": 76,
   "metadata": {},
   "outputs": [
    {
     "name": "stdout",
     "output_type": "stream",
     "text": [
      "[0.00573507 0.28610729 1.        ]\n",
      "[0.0057352  0.25157233 1.        ]\n"
     ]
    }
   ],
   "source": [
    "print(precision_val)\n",
    "print(precision_test)"
   ]
  },
  {
   "cell_type": "code",
   "execution_count": 77,
   "metadata": {},
   "outputs": [],
   "source": [
    "from sklearn.metrics import auc\n",
    "auc_score_val = auc(recall_val, precision_val)\n",
    "auc_score_test = auc(recall_test, precision_test)"
   ]
  },
  {
   "cell_type": "code",
   "execution_count": 78,
   "metadata": {},
   "outputs": [
    {
     "name": "stdout",
     "output_type": "stream",
     "text": [
      "0.5662608251534696 0.532826446593577\n"
     ]
    }
   ],
   "source": [
    "print(auc_score_val,auc_score_test)"
   ]
  },
  {
   "cell_type": "code",
   "execution_count": 79,
   "metadata": {},
   "outputs": [
    {
     "name": "stdout",
     "output_type": "stream",
     "text": [
      "Average precision-recall score validation set: 0.24280\n",
      "Average precision-recall score test set : 0.20560\n"
     ]
    }
   ],
   "source": [
    "from sklearn.metrics import average_precision_score\n",
    "average_precision_1_test = average_precision_score(y_test, y_pred_test)\n",
    "average_precision_1_val = average_precision_score(y_val, y_pred_val)\n",
    "print('Average precision-recall score validation set: {0:0.5f}'.format(\n",
    "      average_precision_1_val))\n",
    "print('Average precision-recall score test set : {0:0.5f}'.format(\n",
    "      average_precision_1_test))"
   ]
  },
  {
   "cell_type": "code",
   "execution_count": 80,
   "metadata": {},
   "outputs": [
    {
     "name": "stdout",
     "output_type": "stream",
     "text": [
      "F1 Score test: 0.38425\n",
      "F1 Score validation test: 0.42754\n"
     ]
    }
   ],
   "source": [
    "from sklearn.metrics import f1_score\n",
    "score_test= f1_score(y_test, y_pred_test)\n",
    "score_val= f1_score(y_val, y_pred_val)\n",
    "print('F1 Score test: %.5f' % score_test)\n",
    "print('F1 Score validation test: %.5f' % score_val)"
   ]
  },
  {
   "cell_type": "code",
   "execution_count": 83,
   "metadata": {},
   "outputs": [
    {
     "name": "stdout",
     "output_type": "stream",
     "text": [
      "Classification report for OCSVM classifier OneClassSVM(gamma=0.04, nu=0.001):\n",
      "              precision    recall  f1-score   support\n",
      "\n",
      "         0.0       1.00      0.99      0.99     42647\n",
      "         1.0       0.25      0.81      0.38       246\n",
      "\n",
      "    accuracy                           0.99     42893\n",
      "   macro avg       0.63      0.90      0.69     42893\n",
      "weighted avg       0.99      0.99      0.99     42893\n",
      "\n",
      "\n"
     ]
    }
   ],
   "source": [
    "from sklearn.metrics import classification_report\n",
    "\n",
    "print(\"Classification report for OCSVM classifier %s:\\n%s\\n\"\n",
    "      % (clf, classification_report(y_test, y_pred_test)))"
   ]
  },
  {
   "cell_type": "markdown",
   "metadata": {},
   "source": [
    "# Isolation forest"
   ]
  },
  {
   "cell_type": "code",
   "execution_count": 87,
   "metadata": {},
   "outputs": [
    {
     "name": "stdout",
     "output_type": "stream",
     "text": [
      "[0.001 0.002 0.003 0.004 0.005 0.006 0.007 0.008 0.009 0.01 ]\n",
      "[100, 200, 500]\n",
      "contamination=0.001,n_estimators=100\n",
      "Time for Isolation Forest fitting: 20.984\n",
      "Average precision-recall score test: 0.07837\n",
      "Average precision-recall score validation: 0.08409\n",
      "contamination=0.001,n_estimators=200\n",
      "Time for Isolation Forest fitting: 42.188\n",
      "Average precision-recall score test: 0.08638\n",
      "Average precision-recall score validation: 0.09128\n",
      "contamination=0.001,n_estimators=500\n",
      "Time for Isolation Forest fitting: 104.532\n",
      "Average precision-recall score test: 0.08752\n",
      "Average precision-recall score validation: 0.08618\n",
      "contamination=0.002,n_estimators=100\n",
      "Time for Isolation Forest fitting: 20.689\n",
      "Average precision-recall score test: 0.13840\n",
      "Average precision-recall score validation: 0.11752\n",
      "contamination=0.002,n_estimators=200\n",
      "Time for Isolation Forest fitting: 41.463\n",
      "Average precision-recall score test: 0.13736\n",
      "Average precision-recall score validation: 0.13068\n",
      "contamination=0.002,n_estimators=500\n",
      "Time for Isolation Forest fitting: 103.577\n",
      "Average precision-recall score test: 0.13937\n",
      "Average precision-recall score validation: 0.13938\n",
      "contamination=0.003,n_estimators=100\n",
      "Time for Isolation Forest fitting: 20.648\n",
      "Average precision-recall score test: 0.13859\n",
      "Average precision-recall score validation: 0.13603\n",
      "contamination=0.003,n_estimators=200\n",
      "Time for Isolation Forest fitting: 41.383\n",
      "Average precision-recall score test: 0.14056\n",
      "Average precision-recall score validation: 0.13603\n",
      "contamination=0.003,n_estimators=500\n",
      "Time for Isolation Forest fitting: 102.880\n",
      "Average precision-recall score test: 0.14450\n",
      "Average precision-recall score validation: 0.14118\n",
      "contamination=0.004,n_estimators=100\n",
      "Time for Isolation Forest fitting: 22.895\n",
      "Average precision-recall score test: 0.14427\n",
      "Average precision-recall score validation: 0.13270\n",
      "contamination=0.004,n_estimators=200\n",
      "Time for Isolation Forest fitting: 42.350\n",
      "Average precision-recall score test: 0.15384\n",
      "Average precision-recall score validation: 0.13958\n",
      "contamination=0.004,n_estimators=500\n",
      "Time for Isolation Forest fitting: 103.668\n",
      "Average precision-recall score test: 0.14427\n",
      "Average precision-recall score validation: 0.14272\n",
      "contamination=0.005,n_estimators=100\n",
      "Time for Isolation Forest fitting: 20.822\n",
      "Average precision-recall score test: 0.14123\n",
      "Average precision-recall score validation: 0.13582\n",
      "contamination=0.005,n_estimators=200\n",
      "Time for Isolation Forest fitting: 41.396\n",
      "Average precision-recall score test: 0.14439\n",
      "Average precision-recall score validation: 0.13996\n",
      "contamination=0.005,n_estimators=500\n",
      "Time for Isolation Forest fitting: 103.134\n",
      "Average precision-recall score test: 0.14807\n",
      "Average precision-recall score validation: 0.14358\n",
      "contamination=0.006,n_estimators=100\n",
      "Time for Isolation Forest fitting: 20.682\n",
      "Average precision-recall score test: 0.13787\n",
      "Average precision-recall score validation: 0.13707\n",
      "contamination=0.006,n_estimators=200\n",
      "Time for Isolation Forest fitting: 41.200\n",
      "Average precision-recall score test: 0.15268\n",
      "Average precision-recall score validation: 0.14318\n",
      "contamination=0.006,n_estimators=500\n",
      "Time for Isolation Forest fitting: 103.294\n",
      "Average precision-recall score test: 0.15545\n",
      "Average precision-recall score validation: 0.14832\n",
      "contamination=0.007,n_estimators=100\n",
      "Time for Isolation Forest fitting: 20.771\n",
      "Average precision-recall score test: 0.13924\n",
      "Average precision-recall score validation: 0.13947\n",
      "contamination=0.007,n_estimators=200\n",
      "Time for Isolation Forest fitting: 41.180\n",
      "Average precision-recall score test: 0.14835\n",
      "Average precision-recall score validation: 0.14125\n",
      "contamination=0.007,n_estimators=500\n",
      "Time for Isolation Forest fitting: 102.995\n",
      "Average precision-recall score test: 0.16290\n",
      "Average precision-recall score validation: 0.14849\n",
      "contamination=0.008,n_estimators=100\n",
      "Time for Isolation Forest fitting: 20.847\n",
      "Average precision-recall score test: 0.13409\n",
      "Average precision-recall score validation: 0.14295\n",
      "contamination=0.008,n_estimators=200\n",
      "Time for Isolation Forest fitting: 41.218\n",
      "Average precision-recall score test: 0.15192\n",
      "Average precision-recall score validation: 0.15525\n",
      "contamination=0.008,n_estimators=500\n",
      "Time for Isolation Forest fitting: 103.177\n",
      "Average precision-recall score test: 0.16041\n",
      "Average precision-recall score validation: 0.15490\n",
      "contamination=0.009000000000000001,n_estimators=100\n",
      "Time for Isolation Forest fitting: 21.427\n",
      "Average precision-recall score test: 0.13924\n",
      "Average precision-recall score validation: 0.14589\n",
      "contamination=0.009000000000000001,n_estimators=200\n",
      "Time for Isolation Forest fitting: 41.895\n",
      "Average precision-recall score test: 0.15177\n",
      "Average precision-recall score validation: 0.15368\n",
      "contamination=0.009000000000000001,n_estimators=500\n",
      "Time for Isolation Forest fitting: 104.749\n",
      "Average precision-recall score test: 0.15275\n",
      "Average precision-recall score validation: 0.15861\n",
      "contamination=0.010000000000000002,n_estimators=100\n",
      "Time for Isolation Forest fitting: 20.900\n",
      "Average precision-recall score test: 0.14479\n",
      "Average precision-recall score validation: 0.14889\n",
      "contamination=0.010000000000000002,n_estimators=200\n",
      "Time for Isolation Forest fitting: 42.301\n",
      "Average precision-recall score test: 0.15436\n",
      "Average precision-recall score validation: 0.15106\n",
      "contamination=0.010000000000000002,n_estimators=500\n",
      "Time for Isolation Forest fitting: 105.684\n",
      "Average precision-recall score test: 0.15984\n",
      "Average precision-recall score validation: 0.16506\n"
     ]
    }
   ],
   "source": [
    "from sklearn.ensemble import IsolationForest\n",
    "nus=np.arange(0.001,0.011,0.001)\n",
    "n_ests=[100,200,500]\n",
    "print(nus)\n",
    "print(n_ests)\n",
    "for nu in nus:\n",
    "    for n_est in n_ests:\n",
    "        clf2 =IsolationForest(contamination=nu,n_estimators=n_est,random_state=42) #fit isolation forest to data set\n",
    "        stime=time.time()\n",
    "        clf2.fit(X_train[:,1:30])\n",
    "        print(\"contamination=\"+str(nu)+\",\"+\"n_estimators=\"+str(n_est))\n",
    "        print(\"Time for Isolation Forest fitting: %.3f\" % (time.time() - stime))\n",
    "        std=time.time()\n",
    "        y_pred_train_2= clf2.predict(X_train[:,1:30])\n",
    "        y_pred_test_2 = clf2.predict(X_test[:,1:30])\n",
    "        y_pred_val_2= clf2.predict(X_val[:,1:30])\n",
    "        y_pred_train_2[y_pred_train_2==1]=0\n",
    "        y_pred_train_2[y_pred_train_2==-1]=1\n",
    "        y_pred_test_2[y_pred_test_2==1]=0\n",
    "        y_pred_test_2[y_pred_test_2==-1]=1\n",
    "        y_pred_val_2[y_pred_val_2==1]=0\n",
    "        y_pred_val_2[y_pred_val_2==-1]=1\n",
    "        average_precision_2_test= average_precision_score(y_test, y_pred_test_2)\n",
    "        average_precision_2_val= average_precision_score(y_val, y_pred_val_2)\n",
    "        print('Average precision-recall score test: {0:0.5f}'.format(average_precision_2_test))\n",
    "        print('Average precision-recall score validation: {0:0.5f}'.format(average_precision_2_val))"
   ]
  },
  {
   "cell_type": "code",
   "execution_count": 90,
   "metadata": {},
   "outputs": [
    {
     "name": "stdout",
     "output_type": "stream",
     "text": [
      "[0.01]\n",
      "[500, 1000, 2000, 3000, 4000, 5000, 10000]\n",
      "contamination=0.01,n_estimators=500\n",
      "Time for Isolation Forest fitting: 106.241\n",
      "Average precision-recall score test: 0.15984\n",
      "Average precision-recall score validation: 0.16506\n",
      "contamination=0.01,n_estimators=1000\n",
      "Time for Isolation Forest fitting: 207.008\n",
      "Average precision-recall score test: 0.15181\n",
      "Average precision-recall score validation: 0.16702\n",
      "contamination=0.01,n_estimators=2000\n",
      "Time for Isolation Forest fitting: 436.494\n",
      "Average precision-recall score test: 0.14443\n",
      "Average precision-recall score validation: 0.16539\n",
      "contamination=0.01,n_estimators=3000\n",
      "Time for Isolation Forest fitting: 621.962\n",
      "Average precision-recall score test: 0.14424\n",
      "Average precision-recall score validation: 0.16214\n",
      "contamination=0.01,n_estimators=4000\n",
      "Time for Isolation Forest fitting: 824.027\n",
      "Average precision-recall score test: 0.14776\n",
      "Average precision-recall score validation: 0.16571\n",
      "contamination=0.01,n_estimators=5000\n",
      "Time for Isolation Forest fitting: 1028.858\n",
      "Average precision-recall score test: 0.14732\n",
      "Average precision-recall score validation: 0.16311\n",
      "contamination=0.01,n_estimators=10000\n",
      "Time for Isolation Forest fitting: 2056.570\n",
      "Average precision-recall score test: 0.15510\n",
      "Average precision-recall score validation: 0.16932\n"
     ]
    }
   ],
   "source": [
    "nus=[0.01]\n",
    "n_ests=[500,1000,2000,3000,4000,5000,10000]\n",
    "print(nus)\n",
    "print(n_ests)\n",
    "for nu in nus:\n",
    "    for n_est in n_ests:\n",
    "        clf2 =IsolationForest(contamination=nu,n_estimators=n_est,random_state=42) #fit isolation forest to data set\n",
    "        stime=time.time()\n",
    "        clf2.fit(X_train[:,1:30])\n",
    "        print(\"contamination=\"+str(nu)+\",\"+\"n_estimators=\"+str(n_est))\n",
    "        print(\"Time for Isolation Forest fitting: %.3f\" % (time.time() - stime))\n",
    "        std=time.time()\n",
    "        y_pred_train_2= clf2.predict(X_train[:,1:30])\n",
    "        y_pred_test_2 = clf2.predict(X_test[:,1:30])\n",
    "        y_pred_val_2= clf2.predict(X_val[:,1:30])\n",
    "        y_pred_train_2[y_pred_train_2==1]=0\n",
    "        y_pred_train_2[y_pred_train_2==-1]=1\n",
    "        y_pred_test_2[y_pred_test_2==1]=0\n",
    "        y_pred_test_2[y_pred_test_2==-1]=1\n",
    "        y_pred_val_2[y_pred_val_2==1]=0\n",
    "        y_pred_val_2[y_pred_val_2==-1]=1\n",
    "        average_precision_2_test= average_precision_score(y_test, y_pred_test_2)\n",
    "        average_precision_2_val= average_precision_score(y_val, y_pred_val_2)\n",
    "        print('Average precision-recall score test: {0:0.5f}'.format(average_precision_2_test))\n",
    "        print('Average precision-recall score validation: {0:0.5f}'.format(average_precision_2_val))"
   ]
  },
  {
   "cell_type": "code",
   "execution_count": 75,
   "metadata": {},
   "outputs": [],
   "source": [
    "#print(\"error train: %3f ; errors test : %3f ; \"\n",
    "#    \"errors val: %3f\"\n",
    "#   % (n_error_train_2/np.shape(X_train)[0], n_error_test_2/np.shape(X_test)[0], n_error_val_2/np.shape(X_val)[0]))"
   ]
  },
  {
   "cell_type": "code",
   "execution_count": 76,
   "metadata": {},
   "outputs": [],
   "source": [
    "y_pred_train_2[y_pred_train_2==1]=0\n",
    "y_pred_train_2[y_pred_train_2==-1]=1\n",
    "y_pred_test_2[y_pred_test_2==1]=0\n",
    "y_pred_test_2[y_pred_test_2==-1]=1\n",
    "y_pred_val_2[y_pred_val_2==1]=0\n",
    "y_pred_val_2[y_pred_val_2==-1]=1"
   ]
  },
  {
   "cell_type": "code",
   "execution_count": 77,
   "metadata": {},
   "outputs": [
    {
     "name": "stdout",
     "output_type": "stream",
     "text": [
      "0.633313946040417\n",
      "0.629201989255337\n"
     ]
    }
   ],
   "source": [
    "from sklearn.metrics import roc_auc_score\n",
    "#print(roc_auc_score(y_train, y_pred_train))\n",
    "print(roc_auc_score(y_val, y_pred_val_2))\n",
    "print(roc_auc_score(y_test, y_pred_test_2))"
   ]
  },
  {
   "cell_type": "code",
   "execution_count": 82,
   "metadata": {},
   "outputs": [
    {
     "name": "stdout",
     "output_type": "stream",
     "text": [
      "Average precision-recall score test: 0.12403\n",
      "Average precision-recall score validation: 0.13345\n"
     ]
    }
   ],
   "source": [
    "average_precision_2_test= average_precision_score(y_test, y_pred_test_2)\n",
    "average_precision_2_val= average_precision_score(y_val, y_pred_val_2)\n",
    "print('Average precision-recall score test: {0:0.5f}'.format(\n",
    "      average_precision_2_test))\n",
    "print('Average precision-recall score validation: {0:0.5f}'.format(\n",
    "      average_precision_2_val))"
   ]
  },
  {
   "cell_type": "code",
   "execution_count": 79,
   "metadata": {},
   "outputs": [
    {
     "name": "stdout",
     "output_type": "stream",
     "text": [
      "F1 Score test: 0.33247\n",
      "F1 Score validation test: 0.34465\n"
     ]
    }
   ],
   "source": [
    "from sklearn.metrics import f1_score\n",
    "score_test_2= f1_score(y_test, y_pred_test_2)\n",
    "score_val_2= f1_score(y_val, y_pred_val_2)\n",
    "print('F1 Score test: %.5f' % score_test_2)\n",
    "print('F1 Score validation test: %.5f' % score_val_2)"
   ]
  },
  {
   "cell_type": "code",
   "execution_count": 84,
   "metadata": {},
   "outputs": [
    {
     "name": "stdout",
     "output_type": "stream",
     "text": [
      "Classification report for IF classifier IsolationForest(contamination=0.02, n_estimators=1000, random_state=42):\n",
      "              precision    recall  f1-score   support\n",
      "\n",
      "        -1.0       0.00      0.00      0.00         0\n",
      "         0.0       0.00      0.00      0.00     42647\n",
      "         1.0       0.00      0.43      0.01       246\n",
      "\n",
      "    accuracy                           0.00     42893\n",
      "   macro avg       0.00      0.14      0.00     42893\n",
      "weighted avg       0.00      0.00      0.00     42893\n",
      "\n",
      "\n"
     ]
    },
    {
     "name": "stderr",
     "output_type": "stream",
     "text": [
      "C:\\Users\\31639\\anaconda3\\envs\\my environment 2021\\lib\\site-packages\\sklearn\\metrics\\_classification.py:1245: UndefinedMetricWarning: Precision and F-score are ill-defined and being set to 0.0 in labels with no predicted samples. Use `zero_division` parameter to control this behavior.\n",
      "  _warn_prf(average, modifier, msg_start, len(result))\n",
      "C:\\Users\\31639\\anaconda3\\envs\\my environment 2021\\lib\\site-packages\\sklearn\\metrics\\_classification.py:1245: UndefinedMetricWarning: Recall and F-score are ill-defined and being set to 0.0 in labels with no true samples. Use `zero_division` parameter to control this behavior.\n",
      "  _warn_prf(average, modifier, msg_start, len(result))\n",
      "C:\\Users\\31639\\anaconda3\\envs\\my environment 2021\\lib\\site-packages\\sklearn\\metrics\\_classification.py:1245: UndefinedMetricWarning: Precision and F-score are ill-defined and being set to 0.0 in labels with no predicted samples. Use `zero_division` parameter to control this behavior.\n",
      "  _warn_prf(average, modifier, msg_start, len(result))\n",
      "C:\\Users\\31639\\anaconda3\\envs\\my environment 2021\\lib\\site-packages\\sklearn\\metrics\\_classification.py:1245: UndefinedMetricWarning: Recall and F-score are ill-defined and being set to 0.0 in labels with no true samples. Use `zero_division` parameter to control this behavior.\n",
      "  _warn_prf(average, modifier, msg_start, len(result))\n",
      "C:\\Users\\31639\\anaconda3\\envs\\my environment 2021\\lib\\site-packages\\sklearn\\metrics\\_classification.py:1245: UndefinedMetricWarning: Precision and F-score are ill-defined and being set to 0.0 in labels with no predicted samples. Use `zero_division` parameter to control this behavior.\n",
      "  _warn_prf(average, modifier, msg_start, len(result))\n",
      "C:\\Users\\31639\\anaconda3\\envs\\my environment 2021\\lib\\site-packages\\sklearn\\metrics\\_classification.py:1245: UndefinedMetricWarning: Recall and F-score are ill-defined and being set to 0.0 in labels with no true samples. Use `zero_division` parameter to control this behavior.\n",
      "  _warn_prf(average, modifier, msg_start, len(result))\n"
     ]
    }
   ],
   "source": [
    "from sklearn.metrics import classification_report\n",
    "\n",
    "print(\"Classification report for IF classifier %s:\\n%s\\n\"\n",
    "      % (clf2, classification_report(y_test, y_pred_test_2)))"
   ]
  }
 ],
 "metadata": {
  "kernelspec": {
   "display_name": "Python 3",
   "language": "python",
   "name": "python3"
  },
  "language_info": {
   "codemirror_mode": {
    "name": "ipython",
    "version": 3
   },
   "file_extension": ".py",
   "mimetype": "text/x-python",
   "name": "python",
   "nbconvert_exporter": "python",
   "pygments_lexer": "ipython3",
   "version": "3.8.8"
  }
 },
 "nbformat": 4,
 "nbformat_minor": 4
}
